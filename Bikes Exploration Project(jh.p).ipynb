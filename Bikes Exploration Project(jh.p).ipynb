{
 "cells": [
  {
   "cell_type": "markdown",
   "metadata": {},
   "source": [
    "# Bikes Data Exploration\n",
    "### by Jeong ha, Park\n",
    "\n",
    "## Preliminary Wrangling\n",
    "\n",
    "This document explores datasets containing time, station and other attribures for approximately 405,000 bikes in New York."
   ]
  },
  {
   "cell_type": "code",
   "execution_count": 1,
   "metadata": {},
   "outputs": [],
   "source": [
    "# import all packages and set plots to be embedded inline\n",
    "import numpy as np\n",
    "import pandas as pd\n",
    "import matplotlib.pyplot as plt\n",
    "import seaborn as sb\n",
    "import os \n",
    "\n",
    "%matplotlib inline"
   ]
  },
  {
   "cell_type": "code",
   "execution_count": 15,
   "metadata": {},
   "outputs": [
    {
     "name": "stdout",
     "output_type": "stream",
     "text": [
      "(121904, 15)\n"
     ]
    },
    {
     "name": "stderr",
     "output_type": "stream",
     "text": [
      "C:\\Users\\parnx\\Anaconda3\\lib\\site-packages\\IPython\\core\\interactiveshell.py:3214: DtypeWarning: Columns (10) have mixed types. Specify dtype option on import or set low_memory=False.\n",
      "  if (yield from self.run_code(code, result)):\n"
     ]
    },
    {
     "name": "stdout",
     "output_type": "stream",
     "text": [
      "(214028, 15)\n",
      "(290343, 15)\n",
      "2019_bts_LA.csv\n"
     ]
    },
    {
     "name": "stderr",
     "output_type": "stream",
     "text": [
      "C:\\Users\\parnx\\Anaconda3\\lib\\site-packages\\IPython\\core\\interactiveshell.py:3214: DtypeWarning: Columns (0,1,4,5,6,7,8,9,10,11) have mixed types. Specify dtype option on import or set low_memory=False.\n",
      "  if (yield from self.run_code(code, result)):\n"
     ]
    },
    {
     "data": {
      "text/html": [
       "<div>\n",
       "<style scoped>\n",
       "    .dataframe tbody tr th:only-of-type {\n",
       "        vertical-align: middle;\n",
       "    }\n",
       "\n",
       "    .dataframe tbody tr th {\n",
       "        vertical-align: top;\n",
       "    }\n",
       "\n",
       "    .dataframe thead th {\n",
       "        text-align: right;\n",
       "    }\n",
       "</style>\n",
       "<table border=\"1\" class=\"dataframe\">\n",
       "  <thead>\n",
       "    <tr style=\"text-align: right;\">\n",
       "      <th></th>\n",
       "      <th>trip_id</th>\n",
       "      <th>duration</th>\n",
       "      <th>start_time</th>\n",
       "      <th>end_time</th>\n",
       "      <th>start_station</th>\n",
       "      <th>start_lat</th>\n",
       "      <th>start_lon</th>\n",
       "      <th>end_station</th>\n",
       "      <th>end_lat</th>\n",
       "      <th>end_lon</th>\n",
       "      <th>bike_id</th>\n",
       "      <th>plan_duration</th>\n",
       "      <th>trip_route_category</th>\n",
       "      <th>passholder_type</th>\n",
       "      <th>bike_type</th>\n",
       "    </tr>\n",
       "  </thead>\n",
       "  <tbody>\n",
       "    <tr>\n",
       "      <th>1</th>\n",
       "      <td>112536773</td>\n",
       "      <td>7</td>\n",
       "      <td>2019-01-01 00:07:00</td>\n",
       "      <td>2019-01-01 00:14:00</td>\n",
       "      <td>3046</td>\n",
       "      <td>34.052872</td>\n",
       "      <td>-118.247490</td>\n",
       "      <td>3051</td>\n",
       "      <td>34.045422</td>\n",
       "      <td>-118.253517</td>\n",
       "      <td>06468</td>\n",
       "      <td>1</td>\n",
       "      <td>One Way</td>\n",
       "      <td>Walk-up</td>\n",
       "      <td>standard</td>\n",
       "    </tr>\n",
       "    <tr>\n",
       "      <th>2</th>\n",
       "      <td>112536772</td>\n",
       "      <td>6</td>\n",
       "      <td>2019-01-01 00:08:00</td>\n",
       "      <td>2019-01-01 00:14:00</td>\n",
       "      <td>3046</td>\n",
       "      <td>34.052872</td>\n",
       "      <td>-118.247490</td>\n",
       "      <td>3051</td>\n",
       "      <td>34.045422</td>\n",
       "      <td>-118.253517</td>\n",
       "      <td>12311</td>\n",
       "      <td>1</td>\n",
       "      <td>One Way</td>\n",
       "      <td>Walk-up</td>\n",
       "      <td>standard</td>\n",
       "    </tr>\n",
       "    <tr>\n",
       "      <th>3</th>\n",
       "      <td>112538689</td>\n",
       "      <td>32</td>\n",
       "      <td>2019-01-01 00:18:00</td>\n",
       "      <td>2019-01-01 00:50:00</td>\n",
       "      <td>3030</td>\n",
       "      <td>34.051941</td>\n",
       "      <td>-118.243530</td>\n",
       "      <td>3075</td>\n",
       "      <td>34.042110</td>\n",
       "      <td>-118.256187</td>\n",
       "      <td>05992</td>\n",
       "      <td>1</td>\n",
       "      <td>One Way</td>\n",
       "      <td>Walk-up</td>\n",
       "      <td>standard</td>\n",
       "    </tr>\n",
       "    <tr>\n",
       "      <th>4</th>\n",
       "      <td>112538688</td>\n",
       "      <td>30</td>\n",
       "      <td>2019-01-01 00:20:00</td>\n",
       "      <td>2019-01-01 00:50:00</td>\n",
       "      <td>3030</td>\n",
       "      <td>34.051941</td>\n",
       "      <td>-118.243530</td>\n",
       "      <td>3075</td>\n",
       "      <td>34.042110</td>\n",
       "      <td>-118.256187</td>\n",
       "      <td>05860</td>\n",
       "      <td>1</td>\n",
       "      <td>One Way</td>\n",
       "      <td>Walk-up</td>\n",
       "      <td>standard</td>\n",
       "    </tr>\n",
       "    <tr>\n",
       "      <th>5</th>\n",
       "      <td>112538687</td>\n",
       "      <td>28</td>\n",
       "      <td>2019-01-01 00:22:00</td>\n",
       "      <td>2019-01-01 00:50:00</td>\n",
       "      <td>3030</td>\n",
       "      <td>34.051941</td>\n",
       "      <td>-118.243530</td>\n",
       "      <td>3075</td>\n",
       "      <td>34.042110</td>\n",
       "      <td>-118.256187</td>\n",
       "      <td>06006</td>\n",
       "      <td>1</td>\n",
       "      <td>One Way</td>\n",
       "      <td>Walk-up</td>\n",
       "      <td>standard</td>\n",
       "    </tr>\n",
       "  </tbody>\n",
       "</table>\n",
       "</div>"
      ],
      "text/plain": [
       "0    trip_id duration           start_time             end_time start_station  \\\n",
       "1  112536773        7  2019-01-01 00:07:00  2019-01-01 00:14:00          3046   \n",
       "2  112536772        6  2019-01-01 00:08:00  2019-01-01 00:14:00          3046   \n",
       "3  112538689       32  2019-01-01 00:18:00  2019-01-01 00:50:00          3030   \n",
       "4  112538688       30  2019-01-01 00:20:00  2019-01-01 00:50:00          3030   \n",
       "5  112538687       28  2019-01-01 00:22:00  2019-01-01 00:50:00          3030   \n",
       "\n",
       "0  start_lat    start_lon end_station    end_lat      end_lon bike_id  \\\n",
       "1  34.052872  -118.247490        3051  34.045422  -118.253517   06468   \n",
       "2  34.052872  -118.247490        3051  34.045422  -118.253517   12311   \n",
       "3  34.051941  -118.243530        3075  34.042110  -118.256187   05992   \n",
       "4  34.051941  -118.243530        3075  34.042110  -118.256187   05860   \n",
       "5  34.051941  -118.243530        3075  34.042110  -118.256187   06006   \n",
       "\n",
       "0 plan_duration trip_route_category passholder_type bike_type  \n",
       "1             1             One Way         Walk-up  standard  \n",
       "2             1             One Way         Walk-up  standard  \n",
       "3             1             One Way         Walk-up  standard  \n",
       "4             1             One Way         Walk-up  standard  \n",
       "5             1             One Way         Walk-up  standard  "
      ]
     },
     "execution_count": 15,
     "metadata": {},
     "output_type": "execute_result"
    }
   ],
   "source": [
    "# load in the dataset into a pandas dataframe, print statistics\n",
    "foldername = '2019_bts_LA'\n",
    "df_stack_LA = getDataFrame(foldername)\n",
    "df_2019_LA = getdata_FromCSVfile(df_stack_LA, foldername)\n",
    "df_2019_LA.head()"
   ]
  },
  {
   "cell_type": "code",
   "execution_count": 16,
   "metadata": {},
   "outputs": [
    {
     "name": "stdout",
     "output_type": "stream",
     "text": [
      "(38242, 15)\n",
      "(61848, 15)\n",
      "(94904, 15)\n",
      "(131039, 15)\n",
      "(170469, 15)\n",
      "(214215, 15)\n",
      "(262926, 15)\n",
      "(312170, 15)\n",
      "(354423, 15)\n",
      "(385220, 15)\n",
      "(404948, 15)\n",
      "2019_citibike_NY.csv\n"
     ]
    },
    {
     "name": "stderr",
     "output_type": "stream",
     "text": [
      "C:\\Users\\parnx\\Anaconda3\\lib\\site-packages\\IPython\\core\\interactiveshell.py:3214: DtypeWarning: Columns (0,3,5,6,7,9,10,11,13,14) have mixed types. Specify dtype option on import or set low_memory=False.\n",
      "  if (yield from self.run_code(code, result)):\n"
     ]
    },
    {
     "data": {
      "text/html": [
       "<div>\n",
       "<style scoped>\n",
       "    .dataframe tbody tr th:only-of-type {\n",
       "        vertical-align: middle;\n",
       "    }\n",
       "\n",
       "    .dataframe tbody tr th {\n",
       "        vertical-align: top;\n",
       "    }\n",
       "\n",
       "    .dataframe thead th {\n",
       "        text-align: right;\n",
       "    }\n",
       "</style>\n",
       "<table border=\"1\" class=\"dataframe\">\n",
       "  <thead>\n",
       "    <tr style=\"text-align: right;\">\n",
       "      <th></th>\n",
       "      <th>tripduration</th>\n",
       "      <th>starttime</th>\n",
       "      <th>stoptime</th>\n",
       "      <th>start station id</th>\n",
       "      <th>start station name</th>\n",
       "      <th>start station latitude</th>\n",
       "      <th>start station longitude</th>\n",
       "      <th>end station id</th>\n",
       "      <th>end station name</th>\n",
       "      <th>end station latitude</th>\n",
       "      <th>end station longitude</th>\n",
       "      <th>bikeid</th>\n",
       "      <th>usertype</th>\n",
       "      <th>birth year</th>\n",
       "      <th>gender</th>\n",
       "    </tr>\n",
       "  </thead>\n",
       "  <tbody>\n",
       "    <tr>\n",
       "      <th>1</th>\n",
       "      <td>201</td>\n",
       "      <td>2019-01-01 03:09:09.7110</td>\n",
       "      <td>2019-01-01 03:12:30.8790</td>\n",
       "      <td>3183</td>\n",
       "      <td>Exchange Place</td>\n",
       "      <td>40.7162469</td>\n",
       "      <td>-74.0334588</td>\n",
       "      <td>3214</td>\n",
       "      <td>Essex Light Rail</td>\n",
       "      <td>40.7127742</td>\n",
       "      <td>-74.0364857</td>\n",
       "      <td>29612</td>\n",
       "      <td>Subscriber</td>\n",
       "      <td>1993</td>\n",
       "      <td>1</td>\n",
       "    </tr>\n",
       "    <tr>\n",
       "      <th>2</th>\n",
       "      <td>505</td>\n",
       "      <td>2019-01-01 05:18:00.1060</td>\n",
       "      <td>2019-01-01 05:26:25.9050</td>\n",
       "      <td>3183</td>\n",
       "      <td>Exchange Place</td>\n",
       "      <td>40.7162469</td>\n",
       "      <td>-74.0334588</td>\n",
       "      <td>3638</td>\n",
       "      <td>Washington St</td>\n",
       "      <td>40.7242941</td>\n",
       "      <td>-74.0354826</td>\n",
       "      <td>29213</td>\n",
       "      <td>Subscriber</td>\n",
       "      <td>1972</td>\n",
       "      <td>2</td>\n",
       "    </tr>\n",
       "    <tr>\n",
       "      <th>3</th>\n",
       "      <td>756</td>\n",
       "      <td>2019-01-01 10:36:33.3400</td>\n",
       "      <td>2019-01-01 10:49:10.2600</td>\n",
       "      <td>3183</td>\n",
       "      <td>Exchange Place</td>\n",
       "      <td>40.7162469</td>\n",
       "      <td>-74.0334588</td>\n",
       "      <td>3192</td>\n",
       "      <td>Liberty Light Rail</td>\n",
       "      <td>40.7112423</td>\n",
       "      <td>-74.0557013</td>\n",
       "      <td>26164</td>\n",
       "      <td>Subscriber</td>\n",
       "      <td>1985</td>\n",
       "      <td>1</td>\n",
       "    </tr>\n",
       "    <tr>\n",
       "      <th>4</th>\n",
       "      <td>1575</td>\n",
       "      <td>2019-01-01 12:43:38.6430</td>\n",
       "      <td>2019-01-01 13:09:54.5280</td>\n",
       "      <td>3183</td>\n",
       "      <td>Exchange Place</td>\n",
       "      <td>40.7162469</td>\n",
       "      <td>-74.0334588</td>\n",
       "      <td>3638</td>\n",
       "      <td>Washington St</td>\n",
       "      <td>40.7242941</td>\n",
       "      <td>-74.0354826</td>\n",
       "      <td>29672</td>\n",
       "      <td>Customer</td>\n",
       "      <td>1969</td>\n",
       "      <td>0</td>\n",
       "    </tr>\n",
       "    <tr>\n",
       "      <th>5</th>\n",
       "      <td>1566</td>\n",
       "      <td>2019-01-01 12:43:39.6010</td>\n",
       "      <td>2019-01-01 13:09:46.5100</td>\n",
       "      <td>3183</td>\n",
       "      <td>Exchange Place</td>\n",
       "      <td>40.7162469</td>\n",
       "      <td>-74.0334588</td>\n",
       "      <td>3638</td>\n",
       "      <td>Washington St</td>\n",
       "      <td>40.7242941</td>\n",
       "      <td>-74.0354826</td>\n",
       "      <td>29522</td>\n",
       "      <td>Customer</td>\n",
       "      <td>1969</td>\n",
       "      <td>0</td>\n",
       "    </tr>\n",
       "  </tbody>\n",
       "</table>\n",
       "</div>"
      ],
      "text/plain": [
       "0 tripduration                 starttime                  stoptime  \\\n",
       "1          201  2019-01-01 03:09:09.7110  2019-01-01 03:12:30.8790   \n",
       "2          505  2019-01-01 05:18:00.1060  2019-01-01 05:26:25.9050   \n",
       "3          756  2019-01-01 10:36:33.3400  2019-01-01 10:49:10.2600   \n",
       "4         1575  2019-01-01 12:43:38.6430  2019-01-01 13:09:54.5280   \n",
       "5         1566  2019-01-01 12:43:39.6010  2019-01-01 13:09:46.5100   \n",
       "\n",
       "0 start station id start station name start station latitude  \\\n",
       "1             3183     Exchange Place             40.7162469   \n",
       "2             3183     Exchange Place             40.7162469   \n",
       "3             3183     Exchange Place             40.7162469   \n",
       "4             3183     Exchange Place             40.7162469   \n",
       "5             3183     Exchange Place             40.7162469   \n",
       "\n",
       "0 start station longitude end station id    end station name  \\\n",
       "1             -74.0334588           3214    Essex Light Rail   \n",
       "2             -74.0334588           3638       Washington St   \n",
       "3             -74.0334588           3192  Liberty Light Rail   \n",
       "4             -74.0334588           3638       Washington St   \n",
       "5             -74.0334588           3638       Washington St   \n",
       "\n",
       "0 end station latitude end station longitude bikeid    usertype birth year  \\\n",
       "1           40.7127742           -74.0364857  29612  Subscriber       1993   \n",
       "2           40.7242941           -74.0354826  29213  Subscriber       1972   \n",
       "3           40.7112423           -74.0557013  26164  Subscriber       1985   \n",
       "4           40.7242941           -74.0354826  29672    Customer       1969   \n",
       "5           40.7242941           -74.0354826  29522    Customer       1969   \n",
       "\n",
       "0 gender  \n",
       "1      1  \n",
       "2      2  \n",
       "3      1  \n",
       "4      0  \n",
       "5      0  "
      ]
     },
     "execution_count": 16,
     "metadata": {},
     "output_type": "execute_result"
    }
   ],
   "source": [
    "foldername = '2019_citibike_NY'\n",
    "df_stack_NY = getDataFrame(foldername)\n",
    "df_2019_NY = getdata_FromCSVfile(df_stack_NY, foldername)\n",
    "df_2019_NY.head()"
   ]
  },
  {
   "cell_type": "code",
   "execution_count": 14,
   "metadata": {},
   "outputs": [],
   "source": [
    "# the fuction to get dataframe to be stacked monthly datasets.\n",
    "def getDataFrame(data_folder):\n",
    "    \n",
    "    if not os.path.exists(data_folder):\n",
    "        os.makedirs(data_folder)\n",
    "    \n",
    "    i = 0\n",
    "    df_stack = pd.DataFrame()\n",
    "    for file_csv in os.listdir(data_folder):\n",
    "        \n",
    "        i = i+1\n",
    "        if i == 1:\n",
    "            df_dummy = pd.DataFrame()\n",
    "            df_first = pd.read_csv(data_folder + '/' + file_csv, sep=',', header = None) \n",
    "            df_stack = pd.concat([df_first, df_dummy], ignore_index = True)\n",
    "            df_stack.head()            \n",
    "        else:\n",
    "            df_next = pd.read_csv(data_folder + '/' + file_csv, sep=',', header = None, skiprows = 1)\n",
    "            df_stack = pd.concat([df_stack, df_next], ignore_index = True)\n",
    "            print(df_stack.shape)\n",
    "\n",
    "    return df_stack"
   ]
  },
  {
   "cell_type": "code",
   "execution_count": 3,
   "metadata": {},
   "outputs": [],
   "source": [
    "# function to make CSV file and tp get dataframe.\n",
    "def getdata_FromCSVfile(df, csvfile):\n",
    "    df.to_csv(csvfile + '.csv', index = False)\n",
    "    print(csvfile + '.csv')\n",
    "    df_bike = pd.read_csv(csvfile + '.csv', encoding='utf-8')\n",
    "\n",
    "    new_header = df_bike.iloc[0]\n",
    "    df_bike = df_bike[1:]\n",
    "    df_bike.columns = new_header\n",
    "    df_bike.reset_index()\n",
    "    df_bike.head()\n",
    "    \n",
    "    return df_bike"
   ]
  },
  {
   "cell_type": "code",
   "execution_count": 18,
   "metadata": {},
   "outputs": [
    {
     "data": {
      "text/html": [
       "<div>\n",
       "<style scoped>\n",
       "    .dataframe tbody tr th:only-of-type {\n",
       "        vertical-align: middle;\n",
       "    }\n",
       "\n",
       "    .dataframe tbody tr th {\n",
       "        vertical-align: top;\n",
       "    }\n",
       "\n",
       "    .dataframe thead th {\n",
       "        text-align: right;\n",
       "    }\n",
       "</style>\n",
       "<table border=\"1\" class=\"dataframe\">\n",
       "  <thead>\n",
       "    <tr style=\"text-align: right;\">\n",
       "      <th></th>\n",
       "      <th>Station_ID</th>\n",
       "      <th>Station_Name</th>\n",
       "      <th>Go_live_date</th>\n",
       "      <th>Region</th>\n",
       "      <th>Status</th>\n",
       "    </tr>\n",
       "  </thead>\n",
       "  <tbody>\n",
       "    <tr>\n",
       "      <th>0</th>\n",
       "      <td>3000</td>\n",
       "      <td>Virtual Station</td>\n",
       "      <td>7/7/2016</td>\n",
       "      <td>NaN</td>\n",
       "      <td>Active</td>\n",
       "    </tr>\n",
       "    <tr>\n",
       "      <th>1</th>\n",
       "      <td>3005</td>\n",
       "      <td>7th &amp; Flower</td>\n",
       "      <td>7/7/2016</td>\n",
       "      <td>DTLA</td>\n",
       "      <td>Active</td>\n",
       "    </tr>\n",
       "    <tr>\n",
       "      <th>2</th>\n",
       "      <td>3006</td>\n",
       "      <td>Olive &amp; 8th</td>\n",
       "      <td>7/7/2016</td>\n",
       "      <td>DTLA</td>\n",
       "      <td>Active</td>\n",
       "    </tr>\n",
       "    <tr>\n",
       "      <th>3</th>\n",
       "      <td>3007</td>\n",
       "      <td>5th &amp; Grand</td>\n",
       "      <td>7/7/2016</td>\n",
       "      <td>DTLA</td>\n",
       "      <td>Active</td>\n",
       "    </tr>\n",
       "    <tr>\n",
       "      <th>4</th>\n",
       "      <td>3008</td>\n",
       "      <td>Figueroa &amp; 9th</td>\n",
       "      <td>7/7/2016</td>\n",
       "      <td>DTLA</td>\n",
       "      <td>Active</td>\n",
       "    </tr>\n",
       "  </tbody>\n",
       "</table>\n",
       "</div>"
      ],
      "text/plain": [
       "   Station_ID     Station_Name Go_live_date Region   Status\n",
       "0        3000  Virtual Station     7/7/2016     NaN  Active\n",
       "1        3005     7th & Flower     7/7/2016    DTLA  Active\n",
       "2        3006      Olive & 8th     7/7/2016    DTLA  Active\n",
       "3        3007      5th & Grand     7/7/2016    DTLA  Active\n",
       "4        3008   Figueroa & 9th     7/7/2016    DTLA  Active"
      ]
     },
     "execution_count": 18,
     "metadata": {},
     "output_type": "execute_result"
    }
   ],
   "source": [
    "# get LA station from CSV \n",
    "df_station_LA = pd.read_csv('metro-bike-share-stations-2020-01-01.csv')\n",
    "df_station_LA.head()"
   ]
  },
  {
   "cell_type": "code",
   "execution_count": 19,
   "metadata": {},
   "outputs": [
    {
     "name": "stdout",
     "output_type": "stream",
     "text": [
      "<class 'pandas.core.frame.DataFrame'>\n",
      "RangeIndex: 404947 entries, 1 to 404947\n",
      "Data columns (total 15 columns):\n",
      "tripduration               404947 non-null object\n",
      "starttime                  404947 non-null object\n",
      "stoptime                   404947 non-null object\n",
      "start station id           404947 non-null object\n",
      "start station name         404947 non-null object\n",
      "start station latitude     404947 non-null object\n",
      "start station longitude    404947 non-null object\n",
      "end station id             404947 non-null object\n",
      "end station name           404947 non-null object\n",
      "end station latitude       404947 non-null object\n",
      "end station longitude      404947 non-null object\n",
      "bikeid                     404947 non-null object\n",
      "usertype                   404947 non-null object\n",
      "birth year                 404947 non-null object\n",
      "gender                     404947 non-null object\n",
      "dtypes: object(15)\n",
      "memory usage: 46.3+ MB\n"
     ]
    }
   ],
   "source": [
    "df_2019_NY.info()"
   ]
  },
  {
   "cell_type": "code",
   "execution_count": 20,
   "metadata": {},
   "outputs": [
    {
     "data": {
      "text/html": [
       "<div>\n",
       "<style scoped>\n",
       "    .dataframe tbody tr th:only-of-type {\n",
       "        vertical-align: middle;\n",
       "    }\n",
       "\n",
       "    .dataframe tbody tr th {\n",
       "        vertical-align: top;\n",
       "    }\n",
       "\n",
       "    .dataframe thead th {\n",
       "        text-align: right;\n",
       "    }\n",
       "</style>\n",
       "<table border=\"1\" class=\"dataframe\">\n",
       "  <thead>\n",
       "    <tr style=\"text-align: right;\">\n",
       "      <th></th>\n",
       "      <th>tripduration</th>\n",
       "      <th>starttime</th>\n",
       "      <th>stoptime</th>\n",
       "      <th>start station id</th>\n",
       "      <th>start station name</th>\n",
       "      <th>start station latitude</th>\n",
       "      <th>start station longitude</th>\n",
       "      <th>end station id</th>\n",
       "      <th>end station name</th>\n",
       "      <th>end station latitude</th>\n",
       "      <th>end station longitude</th>\n",
       "      <th>bikeid</th>\n",
       "      <th>usertype</th>\n",
       "      <th>birth year</th>\n",
       "      <th>gender</th>\n",
       "    </tr>\n",
       "  </thead>\n",
       "  <tbody>\n",
       "    <tr>\n",
       "      <th>count</th>\n",
       "      <td>404947</td>\n",
       "      <td>404947</td>\n",
       "      <td>404947</td>\n",
       "      <td>404947</td>\n",
       "      <td>404947</td>\n",
       "      <td>404947.000000</td>\n",
       "      <td>404947.000000</td>\n",
       "      <td>404947</td>\n",
       "      <td>404947</td>\n",
       "      <td>404947.000000</td>\n",
       "      <td>404947.000000</td>\n",
       "      <td>404947</td>\n",
       "      <td>404947</td>\n",
       "      <td>404947</td>\n",
       "      <td>404947</td>\n",
       "    </tr>\n",
       "    <tr>\n",
       "      <th>unique</th>\n",
       "      <td>9619</td>\n",
       "      <td>404943</td>\n",
       "      <td>404943</td>\n",
       "      <td>104</td>\n",
       "      <td>53</td>\n",
       "      <td>122.000000</td>\n",
       "      <td>127.000000</td>\n",
       "      <td>174</td>\n",
       "      <td>120</td>\n",
       "      <td>192.000000</td>\n",
       "      <td>197.000000</td>\n",
       "      <td>1102</td>\n",
       "      <td>2</td>\n",
       "      <td>130</td>\n",
       "      <td>6</td>\n",
       "    </tr>\n",
       "    <tr>\n",
       "      <th>top</th>\n",
       "      <td>251</td>\n",
       "      <td>2019-05-28 18:23:46.2400</td>\n",
       "      <td>2019-03-21 09:11:33.5360</td>\n",
       "      <td>3186</td>\n",
       "      <td>Grove St PATH</td>\n",
       "      <td>40.719586</td>\n",
       "      <td>-74.043117</td>\n",
       "      <td>3186</td>\n",
       "      <td>Grove St PATH</td>\n",
       "      <td>40.719586</td>\n",
       "      <td>-74.043117</td>\n",
       "      <td>29584</td>\n",
       "      <td>Subscriber</td>\n",
       "      <td>1969</td>\n",
       "      <td>1</td>\n",
       "    </tr>\n",
       "    <tr>\n",
       "      <th>freq</th>\n",
       "      <td>927</td>\n",
       "      <td>2</td>\n",
       "      <td>2</td>\n",
       "      <td>37868</td>\n",
       "      <td>46662</td>\n",
       "      <td>37868.000000</td>\n",
       "      <td>37868.000000</td>\n",
       "      <td>49325</td>\n",
       "      <td>58697</td>\n",
       "      <td>49325.000000</td>\n",
       "      <td>49325.000000</td>\n",
       "      <td>952</td>\n",
       "      <td>361921</td>\n",
       "      <td>23921</td>\n",
       "      <td>236556</td>\n",
       "    </tr>\n",
       "  </tbody>\n",
       "</table>\n",
       "</div>"
      ],
      "text/plain": [
       "0       tripduration                 starttime                  stoptime  \\\n",
       "count         404947                    404947                    404947   \n",
       "unique          9619                    404943                    404943   \n",
       "top              251  2019-05-28 18:23:46.2400  2019-03-21 09:11:33.5360   \n",
       "freq             927                         2                         2   \n",
       "\n",
       "0       start station id start station name  start station latitude  \\\n",
       "count             404947             404947           404947.000000   \n",
       "unique               104                 53              122.000000   \n",
       "top                 3186      Grove St PATH               40.719586   \n",
       "freq               37868              46662            37868.000000   \n",
       "\n",
       "0       start station longitude  end station id end station name  \\\n",
       "count             404947.000000          404947           404947   \n",
       "unique               127.000000             174              120   \n",
       "top                  -74.043117            3186    Grove St PATH   \n",
       "freq               37868.000000           49325            58697   \n",
       "\n",
       "0       end station latitude  end station longitude  bikeid    usertype  \\\n",
       "count          404947.000000          404947.000000  404947      404947   \n",
       "unique            192.000000             197.000000    1102           2   \n",
       "top                40.719586             -74.043117   29584  Subscriber   \n",
       "freq            49325.000000           49325.000000     952      361921   \n",
       "\n",
       "0       birth year  gender  \n",
       "count       404947  404947  \n",
       "unique         130       6  \n",
       "top           1969       1  \n",
       "freq         23921  236556  "
      ]
     },
     "execution_count": 20,
     "metadata": {},
     "output_type": "execute_result"
    }
   ],
   "source": [
    "df_2019_NY.describe()"
   ]
  },
  {
   "cell_type": "code",
   "execution_count": 22,
   "metadata": {},
   "outputs": [
    {
     "name": "stdout",
     "output_type": "stream",
     "text": [
      "<class 'pandas.core.frame.DataFrame'>\n",
      "RangeIndex: 290342 entries, 1 to 290342\n",
      "Data columns (total 15 columns):\n",
      "trip_id                290342 non-null object\n",
      "duration               290342 non-null object\n",
      "start_time             290342 non-null object\n",
      "end_time               290342 non-null object\n",
      "start_station          290342 non-null object\n",
      "start_lat              285505 non-null object\n",
      "start_lon              285505 non-null object\n",
      "end_station            290342 non-null object\n",
      "end_lat                279757 non-null object\n",
      "end_lon                279757 non-null object\n",
      "bike_id                290342 non-null object\n",
      "plan_duration          290342 non-null object\n",
      "trip_route_category    290342 non-null object\n",
      "passholder_type        290342 non-null object\n",
      "bike_type              290342 non-null object\n",
      "dtypes: object(15)\n",
      "memory usage: 33.2+ MB\n"
     ]
    }
   ],
   "source": [
    "df_2019_LA.info()"
   ]
  },
  {
   "cell_type": "code",
   "execution_count": 23,
   "metadata": {},
   "outputs": [
    {
     "data": {
      "text/html": [
       "<div>\n",
       "<style scoped>\n",
       "    .dataframe tbody tr th:only-of-type {\n",
       "        vertical-align: middle;\n",
       "    }\n",
       "\n",
       "    .dataframe tbody tr th {\n",
       "        vertical-align: top;\n",
       "    }\n",
       "\n",
       "    .dataframe thead th {\n",
       "        text-align: right;\n",
       "    }\n",
       "</style>\n",
       "<table border=\"1\" class=\"dataframe\">\n",
       "  <thead>\n",
       "    <tr style=\"text-align: right;\">\n",
       "      <th></th>\n",
       "      <th>trip_id</th>\n",
       "      <th>duration</th>\n",
       "      <th>start_time</th>\n",
       "      <th>end_time</th>\n",
       "      <th>start_station</th>\n",
       "      <th>start_lat</th>\n",
       "      <th>start_lon</th>\n",
       "      <th>end_station</th>\n",
       "      <th>end_lat</th>\n",
       "      <th>end_lon</th>\n",
       "      <th>bike_id</th>\n",
       "      <th>plan_duration</th>\n",
       "      <th>trip_route_category</th>\n",
       "      <th>passholder_type</th>\n",
       "      <th>bike_type</th>\n",
       "    </tr>\n",
       "  </thead>\n",
       "  <tbody>\n",
       "    <tr>\n",
       "      <th>count</th>\n",
       "      <td>290342</td>\n",
       "      <td>290342</td>\n",
       "      <td>290342</td>\n",
       "      <td>290342</td>\n",
       "      <td>290342</td>\n",
       "      <td>285505.0000</td>\n",
       "      <td>285505.000000</td>\n",
       "      <td>290342</td>\n",
       "      <td>279757.0000</td>\n",
       "      <td>279757.000000</td>\n",
       "      <td>290342</td>\n",
       "      <td>290342</td>\n",
       "      <td>290342</td>\n",
       "      <td>290342</td>\n",
       "      <td>290342</td>\n",
       "    </tr>\n",
       "    <tr>\n",
       "      <th>unique</th>\n",
       "      <td>290342</td>\n",
       "      <td>1837</td>\n",
       "      <td>217112</td>\n",
       "      <td>211394</td>\n",
       "      <td>364</td>\n",
       "      <td>405.0000</td>\n",
       "      <td>411.000000</td>\n",
       "      <td>367</td>\n",
       "      <td>407.0000</td>\n",
       "      <td>413.000000</td>\n",
       "      <td>5151</td>\n",
       "      <td>8</td>\n",
       "      <td>2</td>\n",
       "      <td>6</td>\n",
       "      <td>3</td>\n",
       "    </tr>\n",
       "    <tr>\n",
       "      <th>top</th>\n",
       "      <td>134404363</td>\n",
       "      <td>5</td>\n",
       "      <td>2019-02-22 16:52:00</td>\n",
       "      <td>2019-02-22 12:59:00</td>\n",
       "      <td>3005</td>\n",
       "      <td>34.0485</td>\n",
       "      <td>-118.258537</td>\n",
       "      <td>3005</td>\n",
       "      <td>34.0485</td>\n",
       "      <td>-118.258537</td>\n",
       "      <td>16422</td>\n",
       "      <td>30</td>\n",
       "      <td>One Way</td>\n",
       "      <td>Monthly Pass</td>\n",
       "      <td>standard</td>\n",
       "    </tr>\n",
       "    <tr>\n",
       "      <th>freq</th>\n",
       "      <td>1</td>\n",
       "      <td>14228</td>\n",
       "      <td>9</td>\n",
       "      <td>17</td>\n",
       "      <td>10851</td>\n",
       "      <td>10851.0000</td>\n",
       "      <td>10851.000000</td>\n",
       "      <td>11368</td>\n",
       "      <td>11368.0000</td>\n",
       "      <td>11368.000000</td>\n",
       "      <td>723</td>\n",
       "      <td>139745</td>\n",
       "      <td>247034</td>\n",
       "      <td>172665</td>\n",
       "      <td>154217</td>\n",
       "    </tr>\n",
       "  </tbody>\n",
       "</table>\n",
       "</div>"
      ],
      "text/plain": [
       "0         trip_id  duration           start_time             end_time  \\\n",
       "count      290342    290342               290342               290342   \n",
       "unique     290342      1837               217112               211394   \n",
       "top     134404363         5  2019-02-22 16:52:00  2019-02-22 12:59:00   \n",
       "freq            1     14228                    9                   17   \n",
       "\n",
       "0       start_station    start_lat      start_lon  end_station      end_lat  \\\n",
       "count          290342  285505.0000  285505.000000       290342  279757.0000   \n",
       "unique            364     405.0000     411.000000          367     407.0000   \n",
       "top              3005      34.0485    -118.258537         3005      34.0485   \n",
       "freq            10851   10851.0000   10851.000000        11368   11368.0000   \n",
       "\n",
       "0             end_lon  bike_id  plan_duration trip_route_category  \\\n",
       "count   279757.000000   290342         290342              290342   \n",
       "unique     413.000000     5151              8                   2   \n",
       "top       -118.258537    16422             30             One Way   \n",
       "freq     11368.000000      723         139745              247034   \n",
       "\n",
       "0      passholder_type bike_type  \n",
       "count           290342    290342  \n",
       "unique               6         3  \n",
       "top       Monthly Pass  standard  \n",
       "freq            172665    154217  "
      ]
     },
     "execution_count": 23,
     "metadata": {},
     "output_type": "execute_result"
    }
   ],
   "source": [
    "df_2019_LA.describe()"
   ]
  },
  {
   "cell_type": "code",
   "execution_count": 208,
   "metadata": {},
   "outputs": [],
   "source": [
    "# Copy the datasets\n",
    "\n",
    "df_2019_NY_clean = df_2019_NY.copy()\n",
    "df_2019_LA_clean = df_2019_LA.copy()\n",
    "df_station_LA_clean = df_station_LA.copy()"
   ]
  },
  {
   "cell_type": "code",
   "execution_count": 209,
   "metadata": {},
   "outputs": [],
   "source": [
    "# drop the unnecessary columns in df_2019_NY_clean, df_2019_LA_clean\n",
    "df_2019_NY_clean.drop('start station latitude', axis = 1, inplace = True)\n",
    "df_2019_NY_clean.drop('start station longitude', axis = 1, inplace = True)\n",
    "df_2019_NY_clean.drop('end station latitude', axis = 1, inplace = True)\n",
    "df_2019_NY_clean.drop('end station longitude', axis = 1, inplace = True)\n",
    "df_2019_NY_clean.drop('start station id', axis = 1, inplace = True)\n",
    "df_2019_NY_clean.drop('end station id', axis = 1, inplace = True)\n",
    "\n",
    "df_2019_LA_clean.drop('start_lat', axis = 1, inplace = True)\n",
    "df_2019_LA_clean.drop('start_lon', axis = 1, inplace = True)\n",
    "df_2019_LA_clean.drop('end_lat', axis = 1, inplace = True)\n",
    "df_2019_LA_clean.drop('end_lon', axis = 1, inplace = True)\n",
    "df_2019_LA_clean.drop('trip_id', axis = 1, inplace = True)"
   ]
  },
  {
   "cell_type": "code",
   "execution_count": 210,
   "metadata": {},
   "outputs": [],
   "source": [
    "#   Change starttime, stoptime, birth year into the datetype in df_2019_NY_clean, df_2019_LA_clean\n",
    "df_2019_NY_clean['starttime'] = pd.to_datetime(df_2019_NY_clean['starttime'])\n",
    "df_2019_NY_clean['stoptime'] = pd.to_datetime(df_2019_NY_clean['stoptime'])\n",
    "df_2019_NY_clean['birth year'] = pd.to_datetime(df_2019_NY_clean['birth year']).dt.strftime('%Y')\n",
    "df_2019_NY_clean['tripduration'] = df_2019_NY_clean['tripduration'].astype(int)\n",
    "\n",
    "df_2019_LA_clean['start_time'] = pd.to_datetime(df_2019_LA_clean['start_time'])\n",
    "df_2019_LA_clean['end_time'] = pd.to_datetime(df_2019_LA_clean['end_time'])\n",
    "df_2019_LA_clean['duration'] = df_2019_LA_clean['duration'].astype(int)\n",
    "\n",
    "df_station_LA_clean['Station_ID'] = df_station_LA_clean['Station_ID'].astype(str)"
   ]
  },
  {
   "cell_type": "code",
   "execution_count": 125,
   "metadata": {},
   "outputs": [
    {
     "name": "stdout",
     "output_type": "stream",
     "text": [
      "<class 'pandas.core.frame.DataFrame'>\n",
      "RangeIndex: 290342 entries, 1 to 290342\n",
      "Data columns (total 10 columns):\n",
      "duration               290342 non-null int32\n",
      "start_time             290342 non-null datetime64[ns]\n",
      "end_time               290342 non-null datetime64[ns]\n",
      "start_station          290342 non-null object\n",
      "end_station            290342 non-null object\n",
      "bike_id                290342 non-null object\n",
      "plan_duration          290342 non-null object\n",
      "trip_route_category    290342 non-null object\n",
      "passholder_type        290342 non-null object\n",
      "bike_type              290342 non-null object\n",
      "dtypes: datetime64[ns](2), int32(1), object(7)\n",
      "memory usage: 21.0+ MB\n"
     ]
    }
   ],
   "source": [
    "df_2019_NY_clean.describe()\n",
    "df_2019_LA_clean.info()"
   ]
  },
  {
   "cell_type": "code",
   "execution_count": 213,
   "metadata": {},
   "outputs": [
    {
     "data": {
      "text/html": [
       "<div>\n",
       "<style scoped>\n",
       "    .dataframe tbody tr th:only-of-type {\n",
       "        vertical-align: middle;\n",
       "    }\n",
       "\n",
       "    .dataframe tbody tr th {\n",
       "        vertical-align: top;\n",
       "    }\n",
       "\n",
       "    .dataframe thead th {\n",
       "        text-align: right;\n",
       "    }\n",
       "</style>\n",
       "<table border=\"1\" class=\"dataframe\">\n",
       "  <thead>\n",
       "    <tr style=\"text-align: right;\">\n",
       "      <th></th>\n",
       "      <th>Trip_Duration</th>\n",
       "      <th>Start_Time</th>\n",
       "      <th>End_Time</th>\n",
       "      <th>Start_Station</th>\n",
       "      <th>End_Station</th>\n",
       "      <th>Bke_ID</th>\n",
       "      <th>User_Type</th>\n",
       "      <th>Birth_Year</th>\n",
       "      <th>Gender</th>\n",
       "    </tr>\n",
       "  </thead>\n",
       "  <tbody>\n",
       "  </tbody>\n",
       "</table>\n",
       "</div>"
      ],
      "text/plain": [
       "Empty DataFrame\n",
       "Columns: [Trip_Duration, Start_Time, End_Time, Start_Station, End_Station, Bke_ID, User_Type, Birth_Year, Gender]\n",
       "Index: []"
      ]
     },
     "execution_count": 213,
     "metadata": {},
     "output_type": "execute_result"
    }
   ],
   "source": [
    "# change columns name in NY, LA.\n",
    "df_2019_NY_clean.rename(columns = { 'tripduration': 'Trip_Duration'\n",
    "                                 ,'starttime':'Start_Time', 'stoptime':'End_Time'\n",
    "                                 , 'start station name':'Start_Station'\n",
    "                                 , 'end station name':'End_Station'\n",
    "                                 , 'bikeid':'Bke_ID', 'usertype':'User_Type'\n",
    "                                 , 'birth year':'Birth_Year', 'gender':'Gender'}, inplace = True)\n",
    "df_2019_NY_clean.head(0)"
   ]
  },
  {
   "cell_type": "code",
   "execution_count": 212,
   "metadata": {},
   "outputs": [
    {
     "data": {
      "text/html": [
       "<div>\n",
       "<style scoped>\n",
       "    .dataframe tbody tr th:only-of-type {\n",
       "        vertical-align: middle;\n",
       "    }\n",
       "\n",
       "    .dataframe tbody tr th {\n",
       "        vertical-align: top;\n",
       "    }\n",
       "\n",
       "    .dataframe thead th {\n",
       "        text-align: right;\n",
       "    }\n",
       "</style>\n",
       "<table border=\"1\" class=\"dataframe\">\n",
       "  <thead>\n",
       "    <tr style=\"text-align: right;\">\n",
       "      <th></th>\n",
       "      <th>Trip_Duration</th>\n",
       "      <th>Start_Time</th>\n",
       "      <th>End_Time</th>\n",
       "      <th>Start_Station</th>\n",
       "      <th>End_Station</th>\n",
       "      <th>Bike_ID</th>\n",
       "      <th>Plan_Duration</th>\n",
       "      <th>Trip_Route</th>\n",
       "      <th>Passholder</th>\n",
       "      <th>Bike_Type</th>\n",
       "    </tr>\n",
       "  </thead>\n",
       "  <tbody>\n",
       "  </tbody>\n",
       "</table>\n",
       "</div>"
      ],
      "text/plain": [
       "Empty DataFrame\n",
       "Columns: [Trip_Duration, Start_Time, End_Time, Start_Station, End_Station, Bike_ID, Plan_Duration, Trip_Route, Passholder, Bike_Type]\n",
       "Index: []"
      ]
     },
     "execution_count": 212,
     "metadata": {},
     "output_type": "execute_result"
    }
   ],
   "source": [
    "df_2019_LA_clean.rename(columns = {'duration':'Trip_Duration','start_time':'Start_Time','end_time':'End_Time'\n",
    "                                   ,'start_station':'Start_Station','end_station':'End_Station'\n",
    "                                   ,'bike_id':'Bike_ID','plan_duration':'Plan_Duration'\n",
    "                                  ,'trip_route_category':'Trip_Route','passholder_type':'Passholder'\n",
    "                                  ,'bike_type':'Bike_Type'}, inplace = True)\n",
    "df_2019_LA_clean.head(0)"
   ]
  },
  {
   "cell_type": "code",
   "execution_count": 214,
   "metadata": {},
   "outputs": [
    {
     "data": {
      "text/html": [
       "<div>\n",
       "<style scoped>\n",
       "    .dataframe tbody tr th:only-of-type {\n",
       "        vertical-align: middle;\n",
       "    }\n",
       "\n",
       "    .dataframe tbody tr th {\n",
       "        vertical-align: top;\n",
       "    }\n",
       "\n",
       "    .dataframe thead th {\n",
       "        text-align: right;\n",
       "    }\n",
       "</style>\n",
       "<table border=\"1\" class=\"dataframe\">\n",
       "  <thead>\n",
       "    <tr style=\"text-align: right;\">\n",
       "      <th></th>\n",
       "      <th>Station_ID</th>\n",
       "      <th>Station_Name</th>\n",
       "      <th>Go_Live_date</th>\n",
       "      <th>Region</th>\n",
       "      <th>Status</th>\n",
       "    </tr>\n",
       "  </thead>\n",
       "  <tbody>\n",
       "  </tbody>\n",
       "</table>\n",
       "</div>"
      ],
      "text/plain": [
       "Empty DataFrame\n",
       "Columns: [Station_ID, Station_Name, Go_Live_date, Region , Status]\n",
       "Index: []"
      ]
     },
     "execution_count": 214,
     "metadata": {},
     "output_type": "execute_result"
    }
   ],
   "source": [
    "df_station_LA_clean.rename(columns = {'Go_live_date' : 'Go_Live_date'}, inplace = True)\n",
    "df_station_LA_clean.head(0)"
   ]
  },
  {
   "cell_type": "code",
   "execution_count": 215,
   "metadata": {},
   "outputs": [
    {
     "data": {
      "text/html": [
       "<div>\n",
       "<style scoped>\n",
       "    .dataframe tbody tr th:only-of-type {\n",
       "        vertical-align: middle;\n",
       "    }\n",
       "\n",
       "    .dataframe tbody tr th {\n",
       "        vertical-align: top;\n",
       "    }\n",
       "\n",
       "    .dataframe thead th {\n",
       "        text-align: right;\n",
       "    }\n",
       "</style>\n",
       "<table border=\"1\" class=\"dataframe\">\n",
       "  <thead>\n",
       "    <tr style=\"text-align: right;\">\n",
       "      <th></th>\n",
       "      <th>Trip_Duration</th>\n",
       "      <th>Start_Time</th>\n",
       "      <th>End_Time</th>\n",
       "      <th>Start_Station</th>\n",
       "      <th>End_Station</th>\n",
       "      <th>Bke_ID</th>\n",
       "      <th>User_Type</th>\n",
       "      <th>Birth_Year</th>\n",
       "      <th>Gender</th>\n",
       "    </tr>\n",
       "  </thead>\n",
       "  <tbody>\n",
       "    <tr>\n",
       "      <th>1</th>\n",
       "      <td>201</td>\n",
       "      <td>2019-01-01 03:09:09.711</td>\n",
       "      <td>2019-01-01 03:12:30.879</td>\n",
       "      <td>Exchange Place</td>\n",
       "      <td>Essex Light Rail</td>\n",
       "      <td>29612</td>\n",
       "      <td>Subscriber</td>\n",
       "      <td>1993</td>\n",
       "      <td>1</td>\n",
       "    </tr>\n",
       "    <tr>\n",
       "      <th>2</th>\n",
       "      <td>505</td>\n",
       "      <td>2019-01-01 05:18:00.106</td>\n",
       "      <td>2019-01-01 05:26:25.905</td>\n",
       "      <td>Exchange Place</td>\n",
       "      <td>Washington St</td>\n",
       "      <td>29213</td>\n",
       "      <td>Subscriber</td>\n",
       "      <td>1972</td>\n",
       "      <td>2</td>\n",
       "    </tr>\n",
       "    <tr>\n",
       "      <th>3</th>\n",
       "      <td>756</td>\n",
       "      <td>2019-01-01 10:36:33.340</td>\n",
       "      <td>2019-01-01 10:49:10.260</td>\n",
       "      <td>Exchange Place</td>\n",
       "      <td>Liberty Light Rail</td>\n",
       "      <td>26164</td>\n",
       "      <td>Subscriber</td>\n",
       "      <td>1985</td>\n",
       "      <td>1</td>\n",
       "    </tr>\n",
       "  </tbody>\n",
       "</table>\n",
       "</div>"
      ],
      "text/plain": [
       "0  Trip_Duration              Start_Time                End_Time  \\\n",
       "1            201 2019-01-01 03:09:09.711 2019-01-01 03:12:30.879   \n",
       "2            505 2019-01-01 05:18:00.106 2019-01-01 05:26:25.905   \n",
       "3            756 2019-01-01 10:36:33.340 2019-01-01 10:49:10.260   \n",
       "\n",
       "0   Start_Station         End_Station Bke_ID   User_Type Birth_Year Gender  \n",
       "1  Exchange Place    Essex Light Rail  29612  Subscriber       1993      1  \n",
       "2  Exchange Place       Washington St  29213  Subscriber       1972      2  \n",
       "3  Exchange Place  Liberty Light Rail  26164  Subscriber       1985      1  "
      ]
     },
     "execution_count": 215,
     "metadata": {},
     "output_type": "execute_result"
    }
   ],
   "source": [
    "# change categoty code with data values(gender in df_2019_NY, station code in df_2019_LA_clean)\n",
    "df_2019_NY_clean.head(3)"
   ]
  },
  {
   "cell_type": "code",
   "execution_count": 216,
   "metadata": {},
   "outputs": [
    {
     "data": {
      "text/plain": [
       "1       Male\n",
       "2     Female\n",
       "3       Male\n",
       "4    Unknown\n",
       "5    Unknown\n",
       "Name: Gender, dtype: object"
      ]
     },
     "execution_count": 216,
     "metadata": {},
     "output_type": "execute_result"
    }
   ],
   "source": [
    "# Gender (Zero=unknown; 1=male; 2=female)\n",
    "df_2019_NY_clean['Gender'] = df_2019_NY_clean['Gender'].apply(lambda x: 'Male' if x == '1' else ('Female' if x=='2' else 'Unknown'))    \n",
    "df_2019_NY_clean['Gender'].head(5)"
   ]
  },
  {
   "cell_type": "code",
   "execution_count": 217,
   "metadata": {},
   "outputs": [
    {
     "data": {
      "text/html": [
       "<div>\n",
       "<style scoped>\n",
       "    .dataframe tbody tr th:only-of-type {\n",
       "        vertical-align: middle;\n",
       "    }\n",
       "\n",
       "    .dataframe tbody tr th {\n",
       "        vertical-align: top;\n",
       "    }\n",
       "\n",
       "    .dataframe thead th {\n",
       "        text-align: right;\n",
       "    }\n",
       "</style>\n",
       "<table border=\"1\" class=\"dataframe\">\n",
       "  <thead>\n",
       "    <tr style=\"text-align: right;\">\n",
       "      <th></th>\n",
       "      <th>Trip_Duration</th>\n",
       "      <th>Start_Time</th>\n",
       "      <th>End_Time</th>\n",
       "      <th>Start_Station</th>\n",
       "      <th>End_Station</th>\n",
       "      <th>Bike_ID</th>\n",
       "      <th>Plan_Duration</th>\n",
       "      <th>Trip_Route</th>\n",
       "      <th>Passholder</th>\n",
       "      <th>Bike_Type</th>\n",
       "    </tr>\n",
       "  </thead>\n",
       "  <tbody>\n",
       "    <tr>\n",
       "      <th>1</th>\n",
       "      <td>7</td>\n",
       "      <td>2019-01-01 00:07:00</td>\n",
       "      <td>2019-01-01 00:14:00</td>\n",
       "      <td>3046</td>\n",
       "      <td>3051</td>\n",
       "      <td>06468</td>\n",
       "      <td>1</td>\n",
       "      <td>One Way</td>\n",
       "      <td>Walk-up</td>\n",
       "      <td>Standard</td>\n",
       "    </tr>\n",
       "    <tr>\n",
       "      <th>2</th>\n",
       "      <td>6</td>\n",
       "      <td>2019-01-01 00:08:00</td>\n",
       "      <td>2019-01-01 00:14:00</td>\n",
       "      <td>3046</td>\n",
       "      <td>3051</td>\n",
       "      <td>12311</td>\n",
       "      <td>1</td>\n",
       "      <td>One Way</td>\n",
       "      <td>Walk-up</td>\n",
       "      <td>Standard</td>\n",
       "    </tr>\n",
       "    <tr>\n",
       "      <th>3</th>\n",
       "      <td>32</td>\n",
       "      <td>2019-01-01 00:18:00</td>\n",
       "      <td>2019-01-01 00:50:00</td>\n",
       "      <td>3030</td>\n",
       "      <td>3075</td>\n",
       "      <td>05992</td>\n",
       "      <td>1</td>\n",
       "      <td>One Way</td>\n",
       "      <td>Walk-up</td>\n",
       "      <td>Standard</td>\n",
       "    </tr>\n",
       "    <tr>\n",
       "      <th>4</th>\n",
       "      <td>30</td>\n",
       "      <td>2019-01-01 00:20:00</td>\n",
       "      <td>2019-01-01 00:50:00</td>\n",
       "      <td>3030</td>\n",
       "      <td>3075</td>\n",
       "      <td>05860</td>\n",
       "      <td>1</td>\n",
       "      <td>One Way</td>\n",
       "      <td>Walk-up</td>\n",
       "      <td>Standard</td>\n",
       "    </tr>\n",
       "    <tr>\n",
       "      <th>5</th>\n",
       "      <td>28</td>\n",
       "      <td>2019-01-01 00:22:00</td>\n",
       "      <td>2019-01-01 00:50:00</td>\n",
       "      <td>3030</td>\n",
       "      <td>3075</td>\n",
       "      <td>06006</td>\n",
       "      <td>1</td>\n",
       "      <td>One Way</td>\n",
       "      <td>Walk-up</td>\n",
       "      <td>Standard</td>\n",
       "    </tr>\n",
       "  </tbody>\n",
       "</table>\n",
       "</div>"
      ],
      "text/plain": [
       "0  Trip_Duration          Start_Time            End_Time Start_Station  \\\n",
       "1              7 2019-01-01 00:07:00 2019-01-01 00:14:00          3046   \n",
       "2              6 2019-01-01 00:08:00 2019-01-01 00:14:00          3046   \n",
       "3             32 2019-01-01 00:18:00 2019-01-01 00:50:00          3030   \n",
       "4             30 2019-01-01 00:20:00 2019-01-01 00:50:00          3030   \n",
       "5             28 2019-01-01 00:22:00 2019-01-01 00:50:00          3030   \n",
       "\n",
       "0 End_Station Bike_ID Plan_Duration Trip_Route Passholder Bike_Type  \n",
       "1        3051   06468             1    One Way    Walk-up  Standard  \n",
       "2        3051   12311             1    One Way    Walk-up  Standard  \n",
       "3        3075   05992             1    One Way    Walk-up  Standard  \n",
       "4        3075   05860             1    One Way    Walk-up  Standard  \n",
       "5        3075   06006             1    One Way    Walk-up  Standard  "
      ]
     },
     "execution_count": 217,
     "metadata": {},
     "output_type": "execute_result"
    }
   ],
   "source": [
    "capitalize = lambda x: x.title()\n",
    "df_2019_LA_clean['Bike_Type'] = df_2019_LA_clean['Bike_Type'].apply(capitalize)\n",
    "df_2019_LA_clean.head()"
   ]
  },
  {
   "cell_type": "code",
   "execution_count": 218,
   "metadata": {},
   "outputs": [
    {
     "data": {
      "text/plain": [
       "count    4.049470e+05\n",
       "mean     7.258427e+02\n",
       "std      9.785237e+03\n",
       "min      6.100000e+01\n",
       "25%      2.330000e+02\n",
       "50%      3.450000e+02\n",
       "75%      5.800000e+02\n",
       "max      2.566420e+06\n",
       "Name: Trip_Duration, dtype: float64"
      ]
     },
     "execution_count": 218,
     "metadata": {},
     "output_type": "execute_result"
    }
   ],
   "source": [
    "# trip duration is so large numbers, so express the minute unit.\n",
    "df_2019_NY_clean['Trip_Duration'].describe()"
   ]
  },
  {
   "cell_type": "code",
   "execution_count": 221,
   "metadata": {},
   "outputs": [
    {
     "data": {
      "text/html": [
       "<div>\n",
       "<style scoped>\n",
       "    .dataframe tbody tr th:only-of-type {\n",
       "        vertical-align: middle;\n",
       "    }\n",
       "\n",
       "    .dataframe tbody tr th {\n",
       "        vertical-align: top;\n",
       "    }\n",
       "\n",
       "    .dataframe thead th {\n",
       "        text-align: right;\n",
       "    }\n",
       "</style>\n",
       "<table border=\"1\" class=\"dataframe\">\n",
       "  <thead>\n",
       "    <tr style=\"text-align: right;\">\n",
       "      <th></th>\n",
       "      <th>Trip_Duration(s)</th>\n",
       "      <th>Start_Time</th>\n",
       "      <th>End_Time</th>\n",
       "      <th>Start_Station</th>\n",
       "      <th>End_Station</th>\n",
       "      <th>Bke_ID</th>\n",
       "      <th>User_Type</th>\n",
       "      <th>Birth_Year</th>\n",
       "      <th>Gender</th>\n",
       "    </tr>\n",
       "  </thead>\n",
       "  <tbody>\n",
       "  </tbody>\n",
       "</table>\n",
       "</div>"
      ],
      "text/plain": [
       "Empty DataFrame\n",
       "Columns: [Trip_Duration(s), Start_Time, End_Time, Start_Station, End_Station, Bke_ID, User_Type, Birth_Year, Gender]\n",
       "Index: []"
      ]
     },
     "execution_count": 221,
     "metadata": {},
     "output_type": "execute_result"
    }
   ],
   "source": [
    "df_2019_NY_clean.rename(columns = {'Trip_Duration': 'Trip_Duration(s)'}, inplace =True)\n",
    "df_2019_NY_clean.head(0)"
   ]
  },
  {
   "cell_type": "code",
   "execution_count": 222,
   "metadata": {},
   "outputs": [
    {
     "data": {
      "text/plain": [
       "count    404947.000000\n",
       "mean         12.097376\n",
       "std         163.087298\n",
       "min           1.020000\n",
       "25%           3.880000\n",
       "50%           5.750000\n",
       "75%           9.670000\n",
       "max       42773.670000\n",
       "Name: Trip_Duration(m), dtype: float64"
      ]
     },
     "execution_count": 222,
     "metadata": {},
     "output_type": "execute_result"
    }
   ],
   "source": [
    "df_2019_NY_clean['Trip_Duration(m)'] = df_2019_NY_clean['Trip_Duration(s)'].apply(lambda x: round(x/60, 2))\n",
    "df_2019_NY_clean['Trip_Duration(m)'].describe()"
   ]
  },
  {
   "cell_type": "code",
   "execution_count": 223,
   "metadata": {},
   "outputs": [
    {
     "data": {
      "text/plain": [
       "count    290342.000000\n",
       "mean         31.080798\n",
       "std         119.910178\n",
       "min           1.000000\n",
       "25%           6.000000\n",
       "50%          11.000000\n",
       "75%          22.000000\n",
       "max        1440.000000\n",
       "Name: Trip_Duration, dtype: float64"
      ]
     },
     "execution_count": 223,
     "metadata": {},
     "output_type": "execute_result"
    }
   ],
   "source": [
    "# make the same time unit dataset of trip duration of LA\n",
    "df_2019_LA_clean['Trip_Duration'].describe()"
   ]
  },
  {
   "cell_type": "code",
   "execution_count": 224,
   "metadata": {},
   "outputs": [
    {
     "data": {
      "text/html": [
       "<div>\n",
       "<style scoped>\n",
       "    .dataframe tbody tr th:only-of-type {\n",
       "        vertical-align: middle;\n",
       "    }\n",
       "\n",
       "    .dataframe tbody tr th {\n",
       "        vertical-align: top;\n",
       "    }\n",
       "\n",
       "    .dataframe thead th {\n",
       "        text-align: right;\n",
       "    }\n",
       "</style>\n",
       "<table border=\"1\" class=\"dataframe\">\n",
       "  <thead>\n",
       "    <tr style=\"text-align: right;\">\n",
       "      <th></th>\n",
       "      <th>Trip_Duration(s)</th>\n",
       "      <th>Start_Time</th>\n",
       "      <th>End_Time</th>\n",
       "      <th>Start_Station</th>\n",
       "      <th>End_Station</th>\n",
       "      <th>Bike_ID</th>\n",
       "      <th>Plan_Duration</th>\n",
       "      <th>Trip_Route</th>\n",
       "      <th>Passholder</th>\n",
       "      <th>Bike_Type</th>\n",
       "    </tr>\n",
       "  </thead>\n",
       "  <tbody>\n",
       "  </tbody>\n",
       "</table>\n",
       "</div>"
      ],
      "text/plain": [
       "Empty DataFrame\n",
       "Columns: [Trip_Duration(s), Start_Time, End_Time, Start_Station, End_Station, Bike_ID, Plan_Duration, Trip_Route, Passholder, Bike_Type]\n",
       "Index: []"
      ]
     },
     "execution_count": 224,
     "metadata": {},
     "output_type": "execute_result"
    }
   ],
   "source": [
    "df_2019_LA_clean.rename(columns = {'Trip_Duration': 'Trip_Duration(s)'}, inplace =True)\n",
    "df_2019_LA_clean.head(0)"
   ]
  },
  {
   "cell_type": "code",
   "execution_count": 225,
   "metadata": {},
   "outputs": [
    {
     "data": {
      "text/plain": [
       "count    290342.000000\n",
       "mean          0.518086\n",
       "std           1.998493\n",
       "min           0.020000\n",
       "25%           0.100000\n",
       "50%           0.180000\n",
       "75%           0.370000\n",
       "max          24.000000\n",
       "Name: Trip_Duration(m), dtype: float64"
      ]
     },
     "execution_count": 225,
     "metadata": {},
     "output_type": "execute_result"
    }
   ],
   "source": [
    "df_2019_LA_clean['Trip_Duration(m)'] = df_2019_LA_clean['Trip_Duration(s)'].apply(lambda x: round(x/60, 2))\n",
    "df_2019_LA_clean['Trip_Duration(m)'].describe()"
   ]
  },
  {
   "cell_type": "code",
   "execution_count": 283,
   "metadata": {},
   "outputs": [
    {
     "data": {
      "text/html": [
       "<div>\n",
       "<style scoped>\n",
       "    .dataframe tbody tr th:only-of-type {\n",
       "        vertical-align: middle;\n",
       "    }\n",
       "\n",
       "    .dataframe tbody tr th {\n",
       "        vertical-align: top;\n",
       "    }\n",
       "\n",
       "    .dataframe thead th {\n",
       "        text-align: right;\n",
       "    }\n",
       "</style>\n",
       "<table border=\"1\" class=\"dataframe\">\n",
       "  <thead>\n",
       "    <tr style=\"text-align: right;\">\n",
       "      <th></th>\n",
       "      <th>Station_Name</th>\n",
       "      <th>Go_Live_date</th>\n",
       "      <th>Region</th>\n",
       "      <th>Status</th>\n",
       "    </tr>\n",
       "    <tr>\n",
       "      <th>Station_ID</th>\n",
       "      <th></th>\n",
       "      <th></th>\n",
       "      <th></th>\n",
       "      <th></th>\n",
       "    </tr>\n",
       "  </thead>\n",
       "  <tbody>\n",
       "    <tr>\n",
       "      <th>3000</th>\n",
       "      <td>Virtual Station</td>\n",
       "      <td>7/7/2016</td>\n",
       "      <td>NaN</td>\n",
       "      <td>Active</td>\n",
       "    </tr>\n",
       "    <tr>\n",
       "      <th>3005</th>\n",
       "      <td>7th &amp; Flower</td>\n",
       "      <td>7/7/2016</td>\n",
       "      <td>DTLA</td>\n",
       "      <td>Active</td>\n",
       "    </tr>\n",
       "    <tr>\n",
       "      <th>3006</th>\n",
       "      <td>Olive &amp; 8th</td>\n",
       "      <td>7/7/2016</td>\n",
       "      <td>DTLA</td>\n",
       "      <td>Active</td>\n",
       "    </tr>\n",
       "    <tr>\n",
       "      <th>3007</th>\n",
       "      <td>5th &amp; Grand</td>\n",
       "      <td>7/7/2016</td>\n",
       "      <td>DTLA</td>\n",
       "      <td>Active</td>\n",
       "    </tr>\n",
       "    <tr>\n",
       "      <th>3008</th>\n",
       "      <td>Figueroa &amp; 9th</td>\n",
       "      <td>7/7/2016</td>\n",
       "      <td>DTLA</td>\n",
       "      <td>Active</td>\n",
       "    </tr>\n",
       "  </tbody>\n",
       "</table>\n",
       "</div>"
      ],
      "text/plain": [
       "               Station_Name Go_Live_date Region   Status\n",
       "Station_ID                                              \n",
       "3000        Virtual Station     7/7/2016     NaN  Active\n",
       "3005           7th & Flower     7/7/2016    DTLA  Active\n",
       "3006            Olive & 8th     7/7/2016    DTLA  Active\n",
       "3007            5th & Grand     7/7/2016    DTLA  Active\n",
       "3008         Figueroa & 9th     7/7/2016    DTLA  Active"
      ]
     },
     "execution_count": 283,
     "metadata": {},
     "output_type": "execute_result"
    }
   ],
   "source": [
    "df_station_LA_clean.head()"
   ]
  },
  {
   "cell_type": "code",
   "execution_count": 276,
   "metadata": {},
   "outputs": [
    {
     "data": {
      "text/html": [
       "<div>\n",
       "<style scoped>\n",
       "    .dataframe tbody tr th:only-of-type {\n",
       "        vertical-align: middle;\n",
       "    }\n",
       "\n",
       "    .dataframe tbody tr th {\n",
       "        vertical-align: top;\n",
       "    }\n",
       "\n",
       "    .dataframe thead th {\n",
       "        text-align: right;\n",
       "    }\n",
       "</style>\n",
       "<table border=\"1\" class=\"dataframe\">\n",
       "  <thead>\n",
       "    <tr style=\"text-align: right;\">\n",
       "      <th></th>\n",
       "      <th>Trip_Duration(s)</th>\n",
       "      <th>Start_Time</th>\n",
       "      <th>End_Time</th>\n",
       "      <th>Start_Station</th>\n",
       "      <th>End_Station</th>\n",
       "      <th>Bike_ID</th>\n",
       "      <th>Plan_Duration</th>\n",
       "      <th>Trip_Route</th>\n",
       "      <th>Passholder</th>\n",
       "      <th>Bike_Type</th>\n",
       "      <th>Trip_Duration(m)</th>\n",
       "      <th>Start_Hour</th>\n",
       "      <th>End_Hour</th>\n",
       "    </tr>\n",
       "  </thead>\n",
       "  <tbody>\n",
       "    <tr>\n",
       "      <th>1</th>\n",
       "      <td>7</td>\n",
       "      <td>2019-01-01 00:07:00</td>\n",
       "      <td>2019-01-01 00:14:00</td>\n",
       "      <td>3046</td>\n",
       "      <td>3051</td>\n",
       "      <td>06468</td>\n",
       "      <td>1</td>\n",
       "      <td>One Way</td>\n",
       "      <td>Walk-up</td>\n",
       "      <td>Standard</td>\n",
       "      <td>0.12</td>\n",
       "      <td>AM</td>\n",
       "      <td>AM</td>\n",
       "    </tr>\n",
       "    <tr>\n",
       "      <th>2</th>\n",
       "      <td>6</td>\n",
       "      <td>2019-01-01 00:08:00</td>\n",
       "      <td>2019-01-01 00:14:00</td>\n",
       "      <td>3046</td>\n",
       "      <td>3051</td>\n",
       "      <td>12311</td>\n",
       "      <td>1</td>\n",
       "      <td>One Way</td>\n",
       "      <td>Walk-up</td>\n",
       "      <td>Standard</td>\n",
       "      <td>0.10</td>\n",
       "      <td>AM</td>\n",
       "      <td>AM</td>\n",
       "    </tr>\n",
       "    <tr>\n",
       "      <th>3</th>\n",
       "      <td>32</td>\n",
       "      <td>2019-01-01 00:18:00</td>\n",
       "      <td>2019-01-01 00:50:00</td>\n",
       "      <td>3030</td>\n",
       "      <td>3075</td>\n",
       "      <td>05992</td>\n",
       "      <td>1</td>\n",
       "      <td>One Way</td>\n",
       "      <td>Walk-up</td>\n",
       "      <td>Standard</td>\n",
       "      <td>0.53</td>\n",
       "      <td>AM</td>\n",
       "      <td>AM</td>\n",
       "    </tr>\n",
       "    <tr>\n",
       "      <th>4</th>\n",
       "      <td>30</td>\n",
       "      <td>2019-01-01 00:20:00</td>\n",
       "      <td>2019-01-01 00:50:00</td>\n",
       "      <td>3030</td>\n",
       "      <td>3075</td>\n",
       "      <td>05860</td>\n",
       "      <td>1</td>\n",
       "      <td>One Way</td>\n",
       "      <td>Walk-up</td>\n",
       "      <td>Standard</td>\n",
       "      <td>0.50</td>\n",
       "      <td>AM</td>\n",
       "      <td>AM</td>\n",
       "    </tr>\n",
       "    <tr>\n",
       "      <th>5</th>\n",
       "      <td>28</td>\n",
       "      <td>2019-01-01 00:22:00</td>\n",
       "      <td>2019-01-01 00:50:00</td>\n",
       "      <td>3030</td>\n",
       "      <td>3075</td>\n",
       "      <td>06006</td>\n",
       "      <td>1</td>\n",
       "      <td>One Way</td>\n",
       "      <td>Walk-up</td>\n",
       "      <td>Standard</td>\n",
       "      <td>0.47</td>\n",
       "      <td>AM</td>\n",
       "      <td>AM</td>\n",
       "    </tr>\n",
       "  </tbody>\n",
       "</table>\n",
       "</div>"
      ],
      "text/plain": [
       "0  Trip_Duration(s)          Start_Time            End_Time Start_Station  \\\n",
       "1                 7 2019-01-01 00:07:00 2019-01-01 00:14:00          3046   \n",
       "2                 6 2019-01-01 00:08:00 2019-01-01 00:14:00          3046   \n",
       "3                32 2019-01-01 00:18:00 2019-01-01 00:50:00          3030   \n",
       "4                30 2019-01-01 00:20:00 2019-01-01 00:50:00          3030   \n",
       "5                28 2019-01-01 00:22:00 2019-01-01 00:50:00          3030   \n",
       "\n",
       "0 End_Station Bike_ID Plan_Duration Trip_Route Passholder Bike_Type  \\\n",
       "1        3051   06468             1    One Way    Walk-up  Standard   \n",
       "2        3051   12311             1    One Way    Walk-up  Standard   \n",
       "3        3075   05992             1    One Way    Walk-up  Standard   \n",
       "4        3075   05860             1    One Way    Walk-up  Standard   \n",
       "5        3075   06006             1    One Way    Walk-up  Standard   \n",
       "\n",
       "0  Trip_Duration(m) Start_Hour End_Hour  \n",
       "1              0.12         AM       AM  \n",
       "2              0.10         AM       AM  \n",
       "3              0.53         AM       AM  \n",
       "4              0.50         AM       AM  \n",
       "5              0.47         AM       AM  "
      ]
     },
     "execution_count": 276,
     "metadata": {},
     "output_type": "execute_result"
    }
   ],
   "source": [
    "df_2019_LA_clean.head()"
   ]
  },
  {
   "cell_type": "code",
   "execution_count": 593,
   "metadata": {},
   "outputs": [],
   "source": [
    "# function to make the new column 'AM', \"PM\" , Hour,Week in df_2019_LA_clean, df_2019_NY_clean\n",
    "def set_time(dataset):\n",
    "    dataset[\"Start_Hour\"] = dataset['Start_Time'].dt.hour\n",
    "    dataset[\"Start_Noon\"] = dataset[\"Start_Hour\"].apply(lambda x :'PM' if x >= 12 else 'AM')\n",
    "    dataset[\"Start_Hour\"] = dataset[\"Start_Hour\"].astype(str)\n",
    "    dataset[\"End_Hour\"] = dataset['End_Time'].dt.hour\n",
    "    dataset[\"End_Noon\"] = dataset[\"End_Hour\"].apply(lambda x :'PM' if x >= 12 else 'AM')   \n",
    "    dataset[\"End_Hour\"] = dataset[\"End_Hour\"].astype(str)\n",
    "    \n",
    "    dataset[\"Start_Month\"] = dataset['Start_Time'].dt.month   \n",
    "    dataset[\"Start_Month\"] = dataset[\"Start_Month\"].astype(str)\n",
    "    dataset[\"Start_Weekday\"] = dataset['Start_Time'].dt.day_name()\n",
    "    #dataset[\"Start_Weekday\"] = dataset[\"Start_Weekday\"][:3]\n",
    "    #dataset[\"Start_Weekday\"] = dataset['Start_Time'].dt.weekday\n",
    "    \n",
    "set_time(df_2019_NY_clean)\n",
    "set_time(df_2019_LA_clean)"
   ]
  },
  {
   "cell_type": "code",
   "execution_count": 588,
   "metadata": {},
   "outputs": [
    {
     "data": {
      "text/html": [
       "<div>\n",
       "<style scoped>\n",
       "    .dataframe tbody tr th:only-of-type {\n",
       "        vertical-align: middle;\n",
       "    }\n",
       "\n",
       "    .dataframe tbody tr th {\n",
       "        vertical-align: top;\n",
       "    }\n",
       "\n",
       "    .dataframe thead th {\n",
       "        text-align: right;\n",
       "    }\n",
       "</style>\n",
       "<table border=\"1\" class=\"dataframe\">\n",
       "  <thead>\n",
       "    <tr style=\"text-align: right;\">\n",
       "      <th></th>\n",
       "      <th>Trip_Duration(s)</th>\n",
       "      <th>Start_Time</th>\n",
       "      <th>End_Time</th>\n",
       "      <th>Start_Station</th>\n",
       "      <th>End_Station</th>\n",
       "      <th>Bike_ID</th>\n",
       "      <th>Plan_Duration</th>\n",
       "      <th>Trip_Route</th>\n",
       "      <th>Passholder</th>\n",
       "      <th>Bike_Type</th>\n",
       "      <th>Trip_Duration(m)</th>\n",
       "      <th>Start_Hour</th>\n",
       "      <th>End_Hour</th>\n",
       "      <th>Start_Noon</th>\n",
       "      <th>End_Noon</th>\n",
       "      <th>Start_Month</th>\n",
       "      <th>Start_Weekday</th>\n",
       "    </tr>\n",
       "  </thead>\n",
       "  <tbody>\n",
       "    <tr>\n",
       "      <th>1</th>\n",
       "      <td>7</td>\n",
       "      <td>2019-01-01 00:07:00</td>\n",
       "      <td>2019-01-01 00:14:00</td>\n",
       "      <td>3046</td>\n",
       "      <td>3051</td>\n",
       "      <td>06468</td>\n",
       "      <td>1</td>\n",
       "      <td>One Way</td>\n",
       "      <td>Walk-up</td>\n",
       "      <td>Standard</td>\n",
       "      <td>0.12</td>\n",
       "      <td>0</td>\n",
       "      <td>0</td>\n",
       "      <td>AM</td>\n",
       "      <td>AM</td>\n",
       "      <td>1</td>\n",
       "      <td>Tuesday</td>\n",
       "    </tr>\n",
       "    <tr>\n",
       "      <th>2</th>\n",
       "      <td>6</td>\n",
       "      <td>2019-01-01 00:08:00</td>\n",
       "      <td>2019-01-01 00:14:00</td>\n",
       "      <td>3046</td>\n",
       "      <td>3051</td>\n",
       "      <td>12311</td>\n",
       "      <td>1</td>\n",
       "      <td>One Way</td>\n",
       "      <td>Walk-up</td>\n",
       "      <td>Standard</td>\n",
       "      <td>0.10</td>\n",
       "      <td>0</td>\n",
       "      <td>0</td>\n",
       "      <td>AM</td>\n",
       "      <td>AM</td>\n",
       "      <td>1</td>\n",
       "      <td>Tuesday</td>\n",
       "    </tr>\n",
       "    <tr>\n",
       "      <th>3</th>\n",
       "      <td>32</td>\n",
       "      <td>2019-01-01 00:18:00</td>\n",
       "      <td>2019-01-01 00:50:00</td>\n",
       "      <td>3030</td>\n",
       "      <td>3075</td>\n",
       "      <td>05992</td>\n",
       "      <td>1</td>\n",
       "      <td>One Way</td>\n",
       "      <td>Walk-up</td>\n",
       "      <td>Standard</td>\n",
       "      <td>0.53</td>\n",
       "      <td>0</td>\n",
       "      <td>0</td>\n",
       "      <td>AM</td>\n",
       "      <td>AM</td>\n",
       "      <td>1</td>\n",
       "      <td>Tuesday</td>\n",
       "    </tr>\n",
       "  </tbody>\n",
       "</table>\n",
       "</div>"
      ],
      "text/plain": [
       "0  Trip_Duration(s)          Start_Time            End_Time Start_Station  \\\n",
       "1                 7 2019-01-01 00:07:00 2019-01-01 00:14:00          3046   \n",
       "2                 6 2019-01-01 00:08:00 2019-01-01 00:14:00          3046   \n",
       "3                32 2019-01-01 00:18:00 2019-01-01 00:50:00          3030   \n",
       "\n",
       "0 End_Station Bike_ID Plan_Duration Trip_Route Passholder Bike_Type  \\\n",
       "1        3051   06468             1    One Way    Walk-up  Standard   \n",
       "2        3051   12311             1    One Way    Walk-up  Standard   \n",
       "3        3075   05992             1    One Way    Walk-up  Standard   \n",
       "\n",
       "0  Trip_Duration(m) Start_Hour End_Hour Start_Noon End_Noon Start_Month  \\\n",
       "1              0.12          0        0         AM       AM           1   \n",
       "2              0.10          0        0         AM       AM           1   \n",
       "3              0.53          0        0         AM       AM           1   \n",
       "\n",
       "0 Start_Weekday  \n",
       "1       Tuesday  \n",
       "2       Tuesday  \n",
       "3       Tuesday  "
      ]
     },
     "execution_count": 588,
     "metadata": {},
     "output_type": "execute_result"
    }
   ],
   "source": [
    "df_2019_LA_clean.head(3)"
   ]
  },
  {
   "cell_type": "code",
   "execution_count": 586,
   "metadata": {},
   "outputs": [
    {
     "data": {
      "text/html": [
       "<div>\n",
       "<style scoped>\n",
       "    .dataframe tbody tr th:only-of-type {\n",
       "        vertical-align: middle;\n",
       "    }\n",
       "\n",
       "    .dataframe tbody tr th {\n",
       "        vertical-align: top;\n",
       "    }\n",
       "\n",
       "    .dataframe thead th {\n",
       "        text-align: right;\n",
       "    }\n",
       "</style>\n",
       "<table border=\"1\" class=\"dataframe\">\n",
       "  <thead>\n",
       "    <tr style=\"text-align: right;\">\n",
       "      <th></th>\n",
       "      <th>Trip_Duration(s)</th>\n",
       "      <th>Start_Time</th>\n",
       "      <th>End_Time</th>\n",
       "      <th>Start_Station</th>\n",
       "      <th>End_Station</th>\n",
       "      <th>Bke_ID</th>\n",
       "      <th>User_Type</th>\n",
       "      <th>Birth_Year</th>\n",
       "      <th>Gender</th>\n",
       "      <th>Trip_Duration(m)</th>\n",
       "      <th>Start_Hour</th>\n",
       "      <th>End_Hour</th>\n",
       "      <th>Start_Noon</th>\n",
       "      <th>End_Noon</th>\n",
       "      <th>Start_Month</th>\n",
       "      <th>Start_Weekday</th>\n",
       "    </tr>\n",
       "  </thead>\n",
       "  <tbody>\n",
       "    <tr>\n",
       "      <th>1</th>\n",
       "      <td>201</td>\n",
       "      <td>2019-01-01 03:09:09.711</td>\n",
       "      <td>2019-01-01 03:12:30.879</td>\n",
       "      <td>Exchange Place</td>\n",
       "      <td>Essex Light Rail</td>\n",
       "      <td>29612</td>\n",
       "      <td>Subscriber</td>\n",
       "      <td>1993</td>\n",
       "      <td>Male</td>\n",
       "      <td>3.35</td>\n",
       "      <td>3</td>\n",
       "      <td>3</td>\n",
       "      <td>AM</td>\n",
       "      <td>AM</td>\n",
       "      <td>1</td>\n",
       "      <td>Tuesday</td>\n",
       "    </tr>\n",
       "    <tr>\n",
       "      <th>2</th>\n",
       "      <td>505</td>\n",
       "      <td>2019-01-01 05:18:00.106</td>\n",
       "      <td>2019-01-01 05:26:25.905</td>\n",
       "      <td>Exchange Place</td>\n",
       "      <td>Washington St</td>\n",
       "      <td>29213</td>\n",
       "      <td>Subscriber</td>\n",
       "      <td>1972</td>\n",
       "      <td>Female</td>\n",
       "      <td>8.42</td>\n",
       "      <td>5</td>\n",
       "      <td>5</td>\n",
       "      <td>AM</td>\n",
       "      <td>AM</td>\n",
       "      <td>1</td>\n",
       "      <td>Tuesday</td>\n",
       "    </tr>\n",
       "    <tr>\n",
       "      <th>3</th>\n",
       "      <td>756</td>\n",
       "      <td>2019-01-01 10:36:33.340</td>\n",
       "      <td>2019-01-01 10:49:10.260</td>\n",
       "      <td>Exchange Place</td>\n",
       "      <td>Liberty Light Rail</td>\n",
       "      <td>26164</td>\n",
       "      <td>Subscriber</td>\n",
       "      <td>1985</td>\n",
       "      <td>Male</td>\n",
       "      <td>12.60</td>\n",
       "      <td>10</td>\n",
       "      <td>10</td>\n",
       "      <td>AM</td>\n",
       "      <td>AM</td>\n",
       "      <td>1</td>\n",
       "      <td>Tuesday</td>\n",
       "    </tr>\n",
       "  </tbody>\n",
       "</table>\n",
       "</div>"
      ],
      "text/plain": [
       "0  Trip_Duration(s)              Start_Time                End_Time  \\\n",
       "1               201 2019-01-01 03:09:09.711 2019-01-01 03:12:30.879   \n",
       "2               505 2019-01-01 05:18:00.106 2019-01-01 05:26:25.905   \n",
       "3               756 2019-01-01 10:36:33.340 2019-01-01 10:49:10.260   \n",
       "\n",
       "0   Start_Station         End_Station Bke_ID   User_Type Birth_Year  Gender  \\\n",
       "1  Exchange Place    Essex Light Rail  29612  Subscriber       1993    Male   \n",
       "2  Exchange Place       Washington St  29213  Subscriber       1972  Female   \n",
       "3  Exchange Place  Liberty Light Rail  26164  Subscriber       1985    Male   \n",
       "\n",
       "0  Trip_Duration(m) Start_Hour End_Hour Start_Noon End_Noon Start_Month  \\\n",
       "1              3.35          3        3         AM       AM           1   \n",
       "2              8.42          5        5         AM       AM           1   \n",
       "3             12.60         10       10         AM       AM           1   \n",
       "\n",
       "0 Start_Weekday  \n",
       "1       Tuesday  \n",
       "2       Tuesday  \n",
       "3       Tuesday  "
      ]
     },
     "execution_count": 586,
     "metadata": {},
     "output_type": "execute_result"
    }
   ],
   "source": [
    "df_2019_NY_clean.head(3)"
   ]
  },
  {
   "cell_type": "code",
   "execution_count": 765,
   "metadata": {},
   "outputs": [
    {
     "name": "stdout",
     "output_type": "stream",
     "text": [
      "<class 'pandas.core.frame.DataFrame'>\n",
      "RangeIndex: 404947 entries, 1 to 404947\n",
      "Data columns (total 16 columns):\n",
      "Trip_Duration(s)    404947 non-null int32\n",
      "Start_Time          404947 non-null datetime64[ns]\n",
      "End_Time            404947 non-null datetime64[ns]\n",
      "Start_Station       404947 non-null object\n",
      "End_Station         404947 non-null object\n",
      "Bke_ID              404947 non-null object\n",
      "User_Type           404947 non-null category\n",
      "Birth_Year          404947 non-null object\n",
      "Gender              404947 non-null category\n",
      "Trip_Duration(m)    404947 non-null float64\n",
      "Start_Hour          404947 non-null category\n",
      "End_Hour            404947 non-null object\n",
      "Start_Noon          404947 non-null object\n",
      "End_Noon            404947 non-null object\n",
      "Start_Month         404947 non-null category\n",
      "Start_Weekday       404947 non-null category\n",
      "dtypes: category(5), datetime64[ns](2), float64(1), int32(1), object(7)\n",
      "memory usage: 34.4+ MB\n"
     ]
    }
   ],
   "source": [
    "df_2019_NY_clean.info()#['Start_Hour'].value_counts().index"
   ]
  },
  {
   "cell_type": "code",
   "execution_count": 610,
   "metadata": {},
   "outputs": [],
   "source": [
    "# change categoty type(user_type, gender in NY, Trip_route Passholder Bike_type in LA\n",
    "# Monday is 1 and Sunday is 7\n",
    "\n",
    "\n",
    "ordinal_NY_dict = {'Gender' : ['Female', 'Male','Unknown'],\n",
    "                    'User_Type' : ['Subscriber', 'Customer'],\n",
    "                  'Start_Hour': ['0','1','2','3','4','5','6','7','8','9','10','11','12','13','14','15','16','17','18','19','20','21','22','23'],\n",
    "                  'Start_Month': ['1','2','3','4','5','6','7','8','9','10','11','12'],\n",
    "                  'Start_Weekday' : ['Sunday','Monday','Tuesday', 'Wednesday', 'Thursday','Friday','Saturday']}\n",
    "for var in ordinal_NY_dict:\n",
    "    ordered_var = pd.api.types.CategoricalDtype(ordered = True,\n",
    "                                                categories = ordinal_NY_dict[var])\n",
    "    df_2019_NY_clean[var] = df_2019_NY_clean[var].astype(ordered_var)\n",
    "\n",
    "\n",
    "ordinal_LA_dict = {'Trip_Route' : ['One Way','Round Trip'],\n",
    "                    'Passholder' : ['Walk-up','One Day Pass','Monthly Pass','Annual Pass','Flex Pass','Testing'],\n",
    "                    'Bike_Type' : ['Standard', 'Electric', 'Smart'],\n",
    "                  'Start_Hour': ['0','1','2','3','4','5','6','7','8','9','10','11','12','13','14','15','16','17','18','19','20','21','22','23'],\n",
    "                   'Start_Month': ['1','2','3','4','5','6','7','8','9','10','11','12'],\n",
    "                   'Start_Weekday' : ['Sunday','Monday','Tuesday', 'Wednesday', 'Thursday','Friday','Saturday']}\n",
    "for var in ordinal_LA_dict:\n",
    "    ordered_var = pd.api.types.CategoricalDtype(ordered = True,\n",
    "                                                categories = ordinal_LA_dict[var])\n",
    "    df_2019_LA_clean[var] = df_2019_LA_clean[var].astype(ordered_var)\n"
   ]
  },
  {
   "cell_type": "code",
   "execution_count": 611,
   "metadata": {},
   "outputs": [
    {
     "name": "stdout",
     "output_type": "stream",
     "text": [
      "<class 'pandas.core.frame.DataFrame'>\n",
      "RangeIndex: 404947 entries, 1 to 404947\n",
      "Data columns (total 16 columns):\n",
      "Trip_Duration(s)    404947 non-null int32\n",
      "Start_Time          404947 non-null datetime64[ns]\n",
      "End_Time            404947 non-null datetime64[ns]\n",
      "Start_Station       404947 non-null object\n",
      "End_Station         404947 non-null object\n",
      "Bke_ID              404947 non-null object\n",
      "User_Type           404947 non-null category\n",
      "Birth_Year          404947 non-null object\n",
      "Gender              404947 non-null category\n",
      "Trip_Duration(m)    404947 non-null float64\n",
      "Start_Hour          404947 non-null category\n",
      "End_Hour            404947 non-null object\n",
      "Start_Noon          404947 non-null object\n",
      "End_Noon            404947 non-null object\n",
      "Start_Month         404947 non-null category\n",
      "Start_Weekday       404947 non-null category\n",
      "dtypes: category(5), datetime64[ns](2), float64(1), int32(1), object(7)\n",
      "memory usage: 34.4+ MB\n"
     ]
    }
   ],
   "source": [
    "df_2019_NY_clean.info()"
   ]
  },
  {
   "cell_type": "code",
   "execution_count": 612,
   "metadata": {},
   "outputs": [
    {
     "name": "stdout",
     "output_type": "stream",
     "text": [
      "<class 'pandas.core.frame.DataFrame'>\n",
      "RangeIndex: 290342 entries, 1 to 290342\n",
      "Data columns (total 17 columns):\n",
      "Trip_Duration(s)    290342 non-null int32\n",
      "Start_Time          290342 non-null datetime64[ns]\n",
      "End_Time            290342 non-null datetime64[ns]\n",
      "Start_Station       290342 non-null object\n",
      "End_Station         290342 non-null object\n",
      "Bike_ID             290342 non-null object\n",
      "Plan_Duration       290342 non-null object\n",
      "Trip_Route          290342 non-null category\n",
      "Passholder          290342 non-null category\n",
      "Bike_Type           290342 non-null category\n",
      "Trip_Duration(m)    290342 non-null float64\n",
      "Start_Hour          290342 non-null category\n",
      "End_Hour            290342 non-null object\n",
      "Start_Noon          290342 non-null object\n",
      "End_Noon            290342 non-null object\n",
      "Start_Month         290342 non-null category\n",
      "Start_Weekday       290342 non-null category\n",
      "dtypes: category(6), datetime64[ns](2), float64(1), int32(1), object(7)\n",
      "memory usage: 24.9+ MB\n"
     ]
    }
   ],
   "source": [
    "df_2019_LA_clean.info()"
   ]
  },
  {
   "cell_type": "code",
   "execution_count": 614,
   "metadata": {},
   "outputs": [],
   "source": [
    "bikes_NY = df_2019_NY_clean.copy()\n",
    "bikes_LA = df_2019_LA_clean.copy()"
   ]
  },
  {
   "cell_type": "markdown",
   "metadata": {},
   "source": [
    "### What is the structure of your dataset?\n",
    "\n",
    "There are 404,947 bikes in New Yorkwith features .\n",
    "(New York : Trip_Duration, Start_Time, End_Time, Start_Station, End_Station, Bke_ID, User_Type,  Birth_Year, Gender, Start_Hour, End_Hour)\n",
    "\n",
    "Type of Trip_Duration variable is originally int and its statistic is expressed with other types. So I made original Trip_Duration divide Trip_Duration(s): seconds, Trip_Duration(m):minutes. \n",
    "And the variables User_Type, Gender, Trip_Route and Passholder are categorical types with the following.\n",
    "I also made new columns, Start_Hour, End_Hour, Start_Noon(AM/PM), End_Noon, Start_Month, Start_Weekday for good analysis.\n",
    "\n",
    "Gender : Female, Male, Unknown <br>\n",
    "User_Type : Subscriber, Customer <br>\n",
    "Trip_Rout : One Way, Round Trip <br>\n",
    "Passholder : Walk-up, One Day Pass ,Monthly Pass, Annual Pass, Flex Pass ,Testing <br>\n",
    "Bike_Type : Standard, Electric, Smart <br>\n",
    "\n",
    "\n",
    "### What is/are the main feature(s) of interest in your dataset?\n",
    "\n",
    "I'm most interested in the following:\n",
    "- When are most trips taken in terms of time of day, day of the week, or month of the year?\n",
    "- How long does the average trip take?\n",
    "- Does the above depend on if a user is a subscriber or customer?\n",
    "\n",
    "### What features in the dataset do you think will help support your investigation into your feature(s) of interest?\n",
    "\n",
    "I expect that most trips are taken in 10~12 AM. and In the afternoon, it seems to be distributed evenly by time zone.\n",
    "Also, most trips are in weelends and in June, July August.\n",
    "I also think that the user type(Subscriber, Customer) will have effects on the trips.\n",
    "\n",
    "## Univariate Exploration\n",
    "\n",
    "I'll start to calculate the average trip taken and depend on if a user is a subscriber or customer in New York.\n",
    "I'll start by looking at the distribution of the main variable of interest: time, tripduration."
   ]
  },
  {
   "cell_type": "code",
   "execution_count": 236,
   "metadata": {},
   "outputs": [
    {
     "data": {
      "text/plain": [
       "count    404947.000000\n",
       "mean         12.097376\n",
       "std         163.087298\n",
       "min           1.020000\n",
       "25%           3.880000\n",
       "50%           5.750000\n",
       "75%           9.670000\n",
       "max       42773.670000\n",
       "Name: Trip_Duration(m), dtype: float64"
      ]
     },
     "execution_count": 236,
     "metadata": {},
     "output_type": "execute_result"
    }
   ],
   "source": [
    "bikes_NY['Trip_Duration(m)'].describe()"
   ]
  },
  {
   "cell_type": "code",
   "execution_count": 237,
   "metadata": {},
   "outputs": [
    {
     "data": {
      "text/plain": [
       "(725.8427152195226, 12.097376273932285)"
      ]
     },
     "execution_count": 237,
     "metadata": {},
     "output_type": "execute_result"
    }
   ],
   "source": [
    "bikes_NY['Trip_Duration(s)'].mean(), bikes_NY['Trip_Duration(m)'].mean()"
   ]
  },
  {
   "cell_type": "code",
   "execution_count": 244,
   "metadata": {},
   "outputs": [
    {
     "data": {
      "text/html": [
       "<div>\n",
       "<style scoped>\n",
       "    .dataframe tbody tr th:only-of-type {\n",
       "        vertical-align: middle;\n",
       "    }\n",
       "\n",
       "    .dataframe tbody tr th {\n",
       "        vertical-align: top;\n",
       "    }\n",
       "\n",
       "    .dataframe thead th {\n",
       "        text-align: right;\n",
       "    }\n",
       "</style>\n",
       "<table border=\"1\" class=\"dataframe\">\n",
       "  <thead>\n",
       "    <tr style=\"text-align: right;\">\n",
       "      <th></th>\n",
       "      <th>Trip_Duration(s)</th>\n",
       "      <th>Trip_Duration(m)</th>\n",
       "    </tr>\n",
       "    <tr>\n",
       "      <th>User_Type</th>\n",
       "      <th></th>\n",
       "      <th></th>\n",
       "    </tr>\n",
       "  </thead>\n",
       "  <tbody>\n",
       "    <tr>\n",
       "      <th>Subscriber</th>\n",
       "      <td>521.968372</td>\n",
       "      <td>8.699470</td>\n",
       "    </tr>\n",
       "    <tr>\n",
       "      <th>Customer</th>\n",
       "      <td>2440.768721</td>\n",
       "      <td>40.679481</td>\n",
       "    </tr>\n",
       "  </tbody>\n",
       "</table>\n",
       "</div>"
      ],
      "text/plain": [
       "0           Trip_Duration(s)  Trip_Duration(m)\n",
       "User_Type                                     \n",
       "Subscriber        521.968372          8.699470\n",
       "Customer         2440.768721         40.679481"
      ]
     },
     "execution_count": 244,
     "metadata": {},
     "output_type": "execute_result"
    }
   ],
   "source": [
    "bikes_NY.groupby('User_Type').mean()"
   ]
  },
  {
   "cell_type": "code",
   "execution_count": 628,
   "metadata": {
    "scrolled": true
   },
   "outputs": [
    {
     "data": {
      "image/png": "[encoded data removed]",
      "text/plain": [
       "<Figure size 864x360 with 2 Axes>"
      ]
     },
     "metadata": {
      "needs_background": "light"
     },
     "output_type": "display_data"
    }
   ],
   "source": [
    "plt.figure(figsize = [12, 5])\n",
    "base_color = sb.color_palette()[0]\n",
    "\n",
    "# subplot 1: \n",
    "plt.subplot(1, 2, 1)\n",
    "sb.countplot(data = bikes_NY, x = 'User_Type', color = base_color);\n",
    "\n",
    "# subplot 2: \n",
    "ax = plt.subplot(1, 2, 2)\n",
    "\n",
    "bins = np.arange(1, 52.2 + 1, 1)\n",
    "plt.hist(data=bikes_NY, x = 'Trip_Duration(m)', bins = bins);\n",
    "ax.set_xlabel('Trip_Duration(m)')\n",
    "\n",
    "plt.show()"
   ]
  },
  {
   "cell_type": "markdown",
   "metadata": {},
   "source": [
    "#### The count of subscriber is much more than the count of customer in New Youk.  It is almost 7 times. The people riding less than 52 minutes are 98.44% of the total. They are distributed in 10 minutes below."
   ]
  },
  {
   "cell_type": "code",
   "execution_count": 627,
   "metadata": {},
   "outputs": [
    {
     "data": {
      "image/png": "[encoded data removed]",
      "text/plain": [
       "<Figure size 576x792 with 3 Axes>"
      ]
     },
     "metadata": {
      "needs_background": "light"
     },
     "output_type": "display_data"
    }
   ],
   "source": [
    "# since there's only three subplots to create, using the full data should be fine.\n",
    "plt.figure(figsize = [8, 11])\n",
    "\n",
    "# subplot 1: hour\n",
    "plt.subplot(3, 1, 1)\n",
    "sb.countplot(data = bikes_NY, x = 'Start_Hour', palette = 'Blues');\n",
    "\n",
    "# subplot 2: day of week\n",
    "ax = plt.subplot(3, 1, 2)\n",
    "sb.countplot(data = bikes_NY, x = 'Start_Weekday', palette = 'Greens');\n",
    "#ax.legend(ncol = 3) # re-arrange legend to reduce overlapping\n",
    "\n",
    "# subplot 3: month\n",
    "ax = plt.subplot(3, 1, 3)\n",
    "sb.countplot(data = bikes_NY, x = 'Start_Month', palette = 'Oranges')\n",
    "#ax.legend(loc = 1, ncol = 2) # re-arrange legend to remove overlapping\n",
    "\n",
    "plt.show()"
   ]
  },
  {
   "cell_type": "markdown",
   "metadata": {},
   "source": [
    "#### People usually ride on 7~8 am and on 17~19 pm by the time of day. And people prefer to ride on the days of week than the weekends. Also they ride between April and October."
   ]
  },
  {
   "cell_type": "markdown",
   "metadata": {},
   "source": [
    "### Discuss the distribution(s) of your variable(s) of interest. Were there any unusual points? Did you need to perform any transformations?\n",
    " The number of subscribers is much more than the number of customers and the people who are 98.44% almost used the bikes for about 10 minutes below in New York. By times, People usually ride on 7~8 am and on 17~19 pm by the time of day. And people prefer to ride on the days of week than the weekends. Also they ride between April and October by the month of the year.\n",
    "    Under the transformation, the data looked bimodal by the time of day, with one peak on 8 am, and another between 17 and 18 pm.\n",
    "\n",
    "### Of the features you investigated, were there any unusual distributions? Did you perform any operations on the data to tidy, adjust, or change the form of the data? If so, why did you do this?\n",
    "\n",
    "No. there are not unusual distributions. They are appeared as expected.\n",
    "\n",
    "## Bivariate Exploration\n",
    "\n",
    "To start off with, I want to look at the most trips taken in terms of time of day, day of the week, or month of the year by user tyoe in the data."
   ]
  },
  {
   "cell_type": "code",
   "execution_count": 250,
   "metadata": {},
   "outputs": [
    {
     "data": {
      "image/png": "[encoded data removed]",
      "text/plain": [
       "<Figure size 432x288 with 1 Axes>"
      ]
     },
     "metadata": {
      "needs_background": "light"
     },
     "output_type": "display_data"
    }
   ],
   "source": [
    "sb.violinplot(data=bikes_NY, y= 'Trip_Duration(m)', x='User_Type', color= base_color, inner = 'quartile');"
   ]
  },
  {
   "cell_type": "markdown",
   "metadata": {},
   "source": [
    "#### I can't any feature about the total data in this polt. I saw the statistic of New York's Trip_Duration(minute)  then most of the data is in the 75% category. After I divide the data into two part: 75% below and 75% over, I analyze the two datasets each. "
   ]
  },
  {
   "cell_type": "code",
   "execution_count": 662,
   "metadata": {},
   "outputs": [],
   "source": [
    "value_first = bikes_NY['Trip_Duration(m)'].describe()[6] #9.67\n",
    "bikes_NY_below9 = bikes_NY[bikes_NY['Trip_Duration(m)'] <= value_first]\n",
    "bikes_NY_over9 = bikes_NY[bikes_NY['Trip_Duration(m)'] > value_first]\n",
    "\n",
    "value_second = bikes_NY_over9['Trip_Duration(m)'].describe()[6]      #  24.620000\n",
    "bikes_NY_below24 = bikes_NY[bikes_NY['Trip_Duration(m)'] <= value_second]\n",
    "bikes_NY_over24 = bikes_NY[bikes_NY['Trip_Duration(m)'] > value_second]\n",
    "\n",
    "value_third = bikes_NY_over24['Trip_Duration(m)'].describe()[6]  #52.13\n",
    "bikes_NY_below52 = bikes_NY[bikes_NY['Trip_Duration(m)'] <= value_third]\n",
    "bikes_NY_over52 = bikes_NY[bikes_NY['Trip_Duration(m)'] > value_third]"
   ]
  },
  {
   "cell_type": "code",
   "execution_count": 500,
   "metadata": {},
   "outputs": [],
   "source": [
    "value_fourth = bikes_NY_over52['Trip_Duration(m)'].describe()[6]  #121.775\n",
    "value_fourth\n",
    "bikes_NY_below121 = bikes_NY[bikes_NY['Trip_Duration(m)'] <= value_fourth]"
   ]
  },
  {
   "cell_type": "code",
   "execution_count": 630,
   "metadata": {},
   "outputs": [
    {
     "data": {
      "image/png": "[encoded data removed]",
      "text/plain": [
       "<Figure size 1080x360 with 3 Axes>"
      ]
     },
     "metadata": {
      "needs_background": "light"
     },
     "output_type": "display_data"
    }
   ],
   "source": [
    "plt.figure(figsize = [15, 5])\n",
    "\n",
    "# subplot 1: \n",
    "plt.subplot(1, 3, 1)\n",
    "sb.violinplot(data=bikes_NY_below9, y= 'Trip_Duration(m)', x='User_Type', color= base_color, inner = 'quartile')\n",
    "\n",
    "# subplot 2:\n",
    "ax = plt.subplot(1, 3, 2)\n",
    "sb.boxplot(data=bikes_NY_below9, y= 'Trip_Duration(m)', x='User_Type', color= base_color)\n",
    "ax.set_ylabel('')\n",
    "\n",
    "# subplot 3: \n",
    "ax = plt.subplot(1, 3, 3)\n",
    "sb.violinplot(data=bikes_NY_over9, y= 'Trip_Duration(m)', x='User_Type', color= base_color, inner = 'quartile')\n",
    "ax.set_ylabel('')\n",
    "plt.show()"
   ]
  },
  {
   "cell_type": "markdown",
   "metadata": {},
   "source": [
    "####  The first and second plot : The 303,849 data who are 75% usually ride the bikes for about 5 minutes(4.72) on average. Longest ride is 9.67 minutes and Shortest time is 1.02 minutes. By user type, subscribers ride the bikes for about 5 minutes on average and customers rides for 6 minutes on average . Most of subscribers ride for about 5 minutes and most of customers ride for 5 ~ 8 minutes. It seems that customers ride longer than subscribers. \n",
    "####  The third plot : But It is difficult for  the 101,098 data(people) who are 75% over to analyze because it is distributed over a wide time period. Therefore, the statistics of data existing between 75% and 100% of the total data were re-analyzed and re-analyzed by user type based on 52 minutes."
   ]
  },
  {
   "cell_type": "code",
   "execution_count": 390,
   "metadata": {},
   "outputs": [
    {
     "data": {
      "text/plain": [
       "98.44152444640903"
      ]
     },
     "execution_count": 390,
     "metadata": {},
     "output_type": "execute_result"
    }
   ],
   "source": [
    "(bikes_NY_below52['Trip_Duration(m)'].describe()[0] / bikes_NY['Trip_Duration(m)'].describe()[0]) * 100"
   ]
  },
  {
   "cell_type": "code",
   "execution_count": 764,
   "metadata": {},
   "outputs": [
    {
     "data": {
      "text/html": [
       "<div>\n",
       "<style scoped>\n",
       "    .dataframe tbody tr th:only-of-type {\n",
       "        vertical-align: middle;\n",
       "    }\n",
       "\n",
       "    .dataframe tbody tr th {\n",
       "        vertical-align: top;\n",
       "    }\n",
       "\n",
       "    .dataframe thead th {\n",
       "        text-align: right;\n",
       "    }\n",
       "</style>\n",
       "<table border=\"1\" class=\"dataframe\">\n",
       "  <thead>\n",
       "    <tr style=\"text-align: right;\">\n",
       "      <th></th>\n",
       "      <th>Trip_Duration(s)</th>\n",
       "      <th>Trip_Duration(m)</th>\n",
       "      <th>Weekday_Num</th>\n",
       "    </tr>\n",
       "  </thead>\n",
       "  <tbody>\n",
       "    <tr>\n",
       "      <th>count</th>\n",
       "      <td>398636.000000</td>\n",
       "      <td>398636.000000</td>\n",
       "      <td>398636.000000</td>\n",
       "    </tr>\n",
       "    <tr>\n",
       "      <th>mean</th>\n",
       "      <td>490.233193</td>\n",
       "      <td>8.170551</td>\n",
       "      <td>2.776779</td>\n",
       "    </tr>\n",
       "    <tr>\n",
       "      <th>std</th>\n",
       "      <td>443.990950</td>\n",
       "      <td>7.399848</td>\n",
       "      <td>1.907051</td>\n",
       "    </tr>\n",
       "    <tr>\n",
       "      <th>min</th>\n",
       "      <td>61.000000</td>\n",
       "      <td>1.020000</td>\n",
       "      <td>0.000000</td>\n",
       "    </tr>\n",
       "    <tr>\n",
       "      <th>25%</th>\n",
       "      <td>231.000000</td>\n",
       "      <td>3.850000</td>\n",
       "      <td>1.000000</td>\n",
       "    </tr>\n",
       "    <tr>\n",
       "      <th>50%</th>\n",
       "      <td>340.000000</td>\n",
       "      <td>5.670000</td>\n",
       "      <td>3.000000</td>\n",
       "    </tr>\n",
       "    <tr>\n",
       "      <th>75%</th>\n",
       "      <td>562.000000</td>\n",
       "      <td>9.370000</td>\n",
       "      <td>4.000000</td>\n",
       "    </tr>\n",
       "    <tr>\n",
       "      <th>max</th>\n",
       "      <td>3128.000000</td>\n",
       "      <td>52.130000</td>\n",
       "      <td>6.000000</td>\n",
       "    </tr>\n",
       "  </tbody>\n",
       "</table>\n",
       "</div>"
      ],
      "text/plain": [
       "0      Trip_Duration(s)  Trip_Duration(m)    Weekday_Num\n",
       "count     398636.000000     398636.000000  398636.000000\n",
       "mean         490.233193          8.170551       2.776779\n",
       "std          443.990950          7.399848       1.907051\n",
       "min           61.000000          1.020000       0.000000\n",
       "25%          231.000000          3.850000       1.000000\n",
       "50%          340.000000          5.670000       3.000000\n",
       "75%          562.000000          9.370000       4.000000\n",
       "max         3128.000000         52.130000       6.000000"
      ]
     },
     "execution_count": 764,
     "metadata": {},
     "output_type": "execute_result"
    }
   ],
   "source": [
    "bikes_NY_below52.describe()"
   ]
  },
  {
   "cell_type": "code",
   "execution_count": 762,
   "metadata": {},
   "outputs": [
    {
     "data": {
      "image/png": "[encoded data removed]",
      "text/plain": [
       "<Figure size 1080x360 with 3 Axes>"
      ]
     },
     "metadata": {
      "needs_background": "light"
     },
     "output_type": "display_data"
    }
   ],
   "source": [
    "plt.figure(figsize = [15, 5])\n",
    "\n",
    "# subplot 1: \n",
    "plt.subplot(1, 3, 1)\n",
    "sb.violinplot(data=bikes_NY_below52, y= 'Trip_Duration(m)', x='User_Type', color= base_color, inner = 'quartile');\n",
    "\n",
    "# subplot 2: \n",
    "ax = plt.subplot(1, 3, 2)\n",
    "sb.boxplot(data=bikes_NY_below52, y= 'Trip_Duration(m)', x='User_Type', color= base_color);\n",
    "ax.set_ylabel('')\n",
    "\n",
    "# subplot 3: \n",
    "ax = plt.subplot(1, 3, 3)\n",
    "sb.violinplot(data=bikes_NY_over52, y= 'Trip_Duration(m)', x='User_Type', color= base_color, inner = 'quartile')\n",
    "ax.set_ylabel('')\n",
    "plt.show()"
   ]
  },
  {
   "cell_type": "markdown",
   "metadata": {},
   "source": [
    "#### The first and second plot : The people riding less than 52 minutes are 98.44% of the total. The subscribers of them usually ride for 5.67 minutes on average and the customers of them ride for 12 minutes on average. It seems that customers ride longer than subscribers. The third plot : But It is also difficult for  the 6311 data(people) who are 75% over to analyze because it is distributed over a wide time period. "
   ]
  },
  {
   "cell_type": "code",
   "execution_count": 527,
   "metadata": {},
   "outputs": [
    {
     "data": {
      "image/png": "[encoded data removed]",
      "text/plain": [
       "<Figure size 432x288 with 1 Axes>"
      ]
     },
     "metadata": {
      "needs_background": "light"
     },
     "output_type": "display_data"
    }
   ],
   "source": [
    "sb.countplot(data = bikes_NY, x = 'Start_Noon', hue = 'User_Type', palette = 'Blues')\n",
    "plt.xlabel('AM / PM');"
   ]
  },
  {
   "cell_type": "markdown",
   "metadata": {},
   "source": [
    "#### People(both subscribers and customers) ride usually on PM than AM. "
   ]
  },
  {
   "cell_type": "code",
   "execution_count": 617,
   "metadata": {
    "scrolled": true
   },
   "outputs": [
    {
     "data": {
      "image/png": "[encoded data removed]",
      "text/plain": [
       "<Figure size 576x864 with 3 Axes>"
      ]
     },
     "metadata": {
      "needs_background": "light"
     },
     "output_type": "display_data"
    }
   ],
   "source": [
    "plt.figure(figsize = [8, 12])\n",
    "\n",
    "# subplot 1: hour\n",
    "plt.subplot(3, 1, 1)\n",
    "sb.countplot(data = bikes_NY, x = 'Start_Hour', hue = 'User_Type', palette = 'Blues');\n",
    "\n",
    "# subplot 2: day of week\n",
    "ax = plt.subplot(3, 1, 2)\n",
    "sb.countplot(data = bikes_NY, x = 'Start_Month', hue = 'User_Type', palette = 'Blues');\n",
    "ax.legend(ncol = 3) # re-arrange legend to reduce overlapping\n",
    "\n",
    "# subplot 3: month\n",
    "ax = plt.subplot(3, 1, 3)\n",
    "sb.countplot(data = bikes_NY, x = 'Start_Weekday', hue = 'User_Type', palette = 'Blues');\n",
    "\n",
    "plt.show()"
   ]
  },
  {
   "cell_type": "markdown",
   "metadata": {},
   "source": [
    "#### Both subscribers and customers ride most around 8 am and around 5-6 pm in the afternoon. And generally evenly distributed between April and November .  Both subscribers and customers ride a lot in August, September.  One peculiar thing is that subscribers prefer to use the bikes on the days of the week  while customers prefer on the weekends."
   ]
  },
  {
   "cell_type": "markdown",
   "metadata": {},
   "source": [
    "### Talk about some of the relationships you observed in this part of the investigation. How did the feature(s) of interest vary with other features in the dataset?\n",
    "\n",
    "The trip duraion is closely related to the time, even before transforming the features. The variables of time are hour, days of week and months of year and each variables was analized by user type. The clustered plot seems to be the best for analyzing time-of-day user types. \n",
    "    \n",
    "In the case of the analysis graph by time, the bimodal is drawn, and the daily and monthly analysis graphs are drawn with one peak\n",
    "  \n",
    "In particular, the time-phase analysis and monthly analysis showed similar trends by user type, whereas the day-by-week analysis showed a slightly different trend between subscribers and customers. Subscribers have higher weekdays, while customers have higher weekends.\n",
    "\n",
    "### Did you observe any interesting relationships between the other features (not the main feature(s) of interest)?\n",
    "\n",
    "No. I didn't observe anything between the other features.\n",
    "\n",
    "## Multivariate Exploration\n",
    "\n",
    "The main thing I want to explore in this part of the analysis is how the four categorical measures of time(am/pm, hour, week, month) play into the relationship each other by user type."
   ]
  },
  {
   "cell_type": "code",
   "execution_count": 647,
   "metadata": {},
   "outputs": [
    {
     "data": {
      "text/html": [
       "<div>\n",
       "<style scoped>\n",
       "    .dataframe tbody tr th:only-of-type {\n",
       "        vertical-align: middle;\n",
       "    }\n",
       "\n",
       "    .dataframe tbody tr th {\n",
       "        vertical-align: top;\n",
       "    }\n",
       "\n",
       "    .dataframe thead th {\n",
       "        text-align: right;\n",
       "    }\n",
       "</style>\n",
       "<table border=\"1\" class=\"dataframe\">\n",
       "  <thead>\n",
       "    <tr style=\"text-align: right;\">\n",
       "      <th></th>\n",
       "      <th>Trip_Duration(s)</th>\n",
       "      <th>Start_Time</th>\n",
       "      <th>End_Time</th>\n",
       "      <th>Start_Station</th>\n",
       "      <th>End_Station</th>\n",
       "      <th>Bke_ID</th>\n",
       "      <th>User_Type</th>\n",
       "      <th>Birth_Year</th>\n",
       "      <th>Gender</th>\n",
       "      <th>Trip_Duration(m)</th>\n",
       "      <th>Start_Hour</th>\n",
       "      <th>End_Hour</th>\n",
       "      <th>Start_Noon</th>\n",
       "      <th>End_Noon</th>\n",
       "      <th>Start_Month</th>\n",
       "      <th>Start_Weekday</th>\n",
       "    </tr>\n",
       "  </thead>\n",
       "  <tbody>\n",
       "    <tr>\n",
       "      <th>1</th>\n",
       "      <td>201</td>\n",
       "      <td>2019-01-01 03:09:09.711</td>\n",
       "      <td>2019-01-01 03:12:30.879</td>\n",
       "      <td>Exchange Place</td>\n",
       "      <td>Essex Light Rail</td>\n",
       "      <td>29612</td>\n",
       "      <td>Subscriber</td>\n",
       "      <td>1993</td>\n",
       "      <td>Male</td>\n",
       "      <td>3.35</td>\n",
       "      <td>3</td>\n",
       "      <td>3</td>\n",
       "      <td>AM</td>\n",
       "      <td>AM</td>\n",
       "      <td>1</td>\n",
       "      <td>Tuesday</td>\n",
       "    </tr>\n",
       "    <tr>\n",
       "      <th>2</th>\n",
       "      <td>505</td>\n",
       "      <td>2019-01-01 05:18:00.106</td>\n",
       "      <td>2019-01-01 05:26:25.905</td>\n",
       "      <td>Exchange Place</td>\n",
       "      <td>Washington St</td>\n",
       "      <td>29213</td>\n",
       "      <td>Subscriber</td>\n",
       "      <td>1972</td>\n",
       "      <td>Female</td>\n",
       "      <td>8.42</td>\n",
       "      <td>5</td>\n",
       "      <td>5</td>\n",
       "      <td>AM</td>\n",
       "      <td>AM</td>\n",
       "      <td>1</td>\n",
       "      <td>Tuesday</td>\n",
       "    </tr>\n",
       "    <tr>\n",
       "      <th>3</th>\n",
       "      <td>756</td>\n",
       "      <td>2019-01-01 10:36:33.340</td>\n",
       "      <td>2019-01-01 10:49:10.260</td>\n",
       "      <td>Exchange Place</td>\n",
       "      <td>Liberty Light Rail</td>\n",
       "      <td>26164</td>\n",
       "      <td>Subscriber</td>\n",
       "      <td>1985</td>\n",
       "      <td>Male</td>\n",
       "      <td>12.60</td>\n",
       "      <td>10</td>\n",
       "      <td>10</td>\n",
       "      <td>AM</td>\n",
       "      <td>AM</td>\n",
       "      <td>1</td>\n",
       "      <td>Tuesday</td>\n",
       "    </tr>\n",
       "    <tr>\n",
       "      <th>4</th>\n",
       "      <td>1575</td>\n",
       "      <td>2019-01-01 12:43:38.643</td>\n",
       "      <td>2019-01-01 13:09:54.528</td>\n",
       "      <td>Exchange Place</td>\n",
       "      <td>Washington St</td>\n",
       "      <td>29672</td>\n",
       "      <td>Customer</td>\n",
       "      <td>1969</td>\n",
       "      <td>Unknown</td>\n",
       "      <td>26.25</td>\n",
       "      <td>12</td>\n",
       "      <td>13</td>\n",
       "      <td>PM</td>\n",
       "      <td>PM</td>\n",
       "      <td>1</td>\n",
       "      <td>Tuesday</td>\n",
       "    </tr>\n",
       "    <tr>\n",
       "      <th>5</th>\n",
       "      <td>1566</td>\n",
       "      <td>2019-01-01 12:43:39.601</td>\n",
       "      <td>2019-01-01 13:09:46.510</td>\n",
       "      <td>Exchange Place</td>\n",
       "      <td>Washington St</td>\n",
       "      <td>29522</td>\n",
       "      <td>Customer</td>\n",
       "      <td>1969</td>\n",
       "      <td>Unknown</td>\n",
       "      <td>26.10</td>\n",
       "      <td>12</td>\n",
       "      <td>13</td>\n",
       "      <td>PM</td>\n",
       "      <td>PM</td>\n",
       "      <td>1</td>\n",
       "      <td>Tuesday</td>\n",
       "    </tr>\n",
       "  </tbody>\n",
       "</table>\n",
       "</div>"
      ],
      "text/plain": [
       "0  Trip_Duration(s)              Start_Time                End_Time  \\\n",
       "1               201 2019-01-01 03:09:09.711 2019-01-01 03:12:30.879   \n",
       "2               505 2019-01-01 05:18:00.106 2019-01-01 05:26:25.905   \n",
       "3               756 2019-01-01 10:36:33.340 2019-01-01 10:49:10.260   \n",
       "4              1575 2019-01-01 12:43:38.643 2019-01-01 13:09:54.528   \n",
       "5              1566 2019-01-01 12:43:39.601 2019-01-01 13:09:46.510   \n",
       "\n",
       "0   Start_Station         End_Station Bke_ID   User_Type Birth_Year   Gender  \\\n",
       "1  Exchange Place    Essex Light Rail  29612  Subscriber       1993     Male   \n",
       "2  Exchange Place       Washington St  29213  Subscriber       1972   Female   \n",
       "3  Exchange Place  Liberty Light Rail  26164  Subscriber       1985     Male   \n",
       "4  Exchange Place       Washington St  29672    Customer       1969  Unknown   \n",
       "5  Exchange Place       Washington St  29522    Customer       1969  Unknown   \n",
       "\n",
       "0  Trip_Duration(m) Start_Hour End_Hour Start_Noon End_Noon Start_Month  \\\n",
       "1              3.35          3        3         AM       AM           1   \n",
       "2              8.42          5        5         AM       AM           1   \n",
       "3             12.60         10       10         AM       AM           1   \n",
       "4             26.25         12       13         PM       PM           1   \n",
       "5             26.10         12       13         PM       PM           1   \n",
       "\n",
       "0 Start_Weekday  \n",
       "1       Tuesday  \n",
       "2       Tuesday  \n",
       "3       Tuesday  \n",
       "4       Tuesday  \n",
       "5       Tuesday  "
      ]
     },
     "execution_count": 647,
     "metadata": {},
     "output_type": "execute_result"
    }
   ],
   "source": [
    "bikes_NY.head()"
   ]
  },
  {
   "cell_type": "code",
   "execution_count": 650,
   "metadata": {},
   "outputs": [],
   "source": [
    "bikes_NY['Weekday_Num'] = bikes_NY['Start_Time'].dt.weekday"
   ]
  },
  {
   "cell_type": "code",
   "execution_count": 694,
   "metadata": {},
   "outputs": [
    {
     "data": {
      "image/png": "[encoded data removed]",
      "text/plain": [
       "<Figure size 720x360 with 1 Axes>"
      ]
     },
     "metadata": {
      "needs_background": "light"
     },
     "output_type": "display_data"
    }
   ],
   "source": [
    "plt.figure(figsize = [10, 5])\n",
    "sb.countplot(data = bikes_NY, x = 'Start_Month', hue = 'Start_Weekday', palette = 'Oranges')\n",
    "plt.xlabel('Month');"
   ]
  },
  {
   "cell_type": "markdown",
   "metadata": {},
   "source": [
    "#### The highest rate of bicycle use between May and October"
   ]
  },
  {
   "cell_type": "code",
   "execution_count": 761,
   "metadata": {},
   "outputs": [
    {
     "data": {
      "image/png": "[encoded data removed]",
      "text/plain": [
       "<Figure size 720x360 with 1 Axes>"
      ]
     },
     "metadata": {
      "needs_background": "light"
     },
     "output_type": "display_data"
    }
   ],
   "source": [
    "plt.figure(figsize = [10, 5])\n",
    "g = sb.countplot(data = bikes_NY, x = 'Start_Weekday', hue = 'Start_Hour', palette = 'Greens')\n",
    "g.legend(ncol = 3, loc='center left', bbox_to_anchor=(1, 0.5))\n",
    "plt.xlabel('The Day of Week');"
   ]
  },
  {
   "cell_type": "markdown",
   "metadata": {},
   "source": [
    "#### Day-by-week analysis: Weekdays, bicycle usage is high in the morning and afternoon hours, and bimodal is drawn. On the other hand, there is little morning usage on weekends and high afternoon usage."
   ]
  },
  {
   "cell_type": "code",
   "execution_count": 742,
   "metadata": {},
   "outputs": [
    {
     "name": "stderr",
     "output_type": "stream",
     "text": [
      "C:\\Users\\parnx\\Anaconda3\\lib\\site-packages\\seaborn\\axisgrid.py:715: UserWarning: Using the countplot function without specifying `order` is likely to produce an incorrect plot.\n",
      "  warnings.warn(warning)\n"
     ]
    },
    {
     "data": {
      "image/png": "[encoded data removed]",
      "text/plain": [
       "<Figure size 864x648 with 12 Axes>"
      ]
     },
     "metadata": {
      "needs_background": "light"
     },
     "output_type": "display_data"
    }
   ],
   "source": [
    "g = sb.FacetGrid(data=bikes_NY, col='Start_Month', col_wrap = 4)  #, size = 4, aspect = 1.5\n",
    "g.map(sb.countplot, data = bikes_NY, x = 'User_Type', hue = 'Start_Weekday')\n",
    "plt.xlabel('Month');"
   ]
  },
  {
   "cell_type": "code",
   "execution_count": null,
   "metadata": {},
   "outputs": [],
   "source": []
  },
  {
   "cell_type": "markdown",
   "metadata": {},
   "source": [
    "### Talk about some of the relationships you observed in this part of the investigation. Were there features that strengthened each other in terms of looking at your feature(s) of interest?\n",
    "\n",
    "The graph shows the number of times the bicycle was used for each day of the month. The monthly analysis of the days of the most used bicycles is as follows:\n",
    "January: Wednesday, February: Thursday, March: Friday, April: Tuesday, May: Wednesday / Friday, June: Saturday, July: Tuesday / Wednesday, August: Friday / Saturday, September: Monday / Wednesday, October: Tuesday, November: Friday, December: Tuesday\n",
    "\n",
    "\n",
    "The analysis shows that there is no particular relationship between specific days of week and frequency of use. The most significant result in this graph, as mentioned earlier, is the highest rate of bicycle use between May and October.\n",
    "\n",
    "In addition, the number of times the bicycles were used for each day of each month was analyzed by user type. The results showed the same trend, so there was no big difference by user type.\n",
    "\n",
    "### Were there any interesting or surprising interactions between features?\n",
    "\n",
    "As a result of comparing and analyzing daily / monthly bicycle use rate and each hour / day use rate, the rate of daily / monthly bicycle use rate showed similar trend and the difference was not known. However, it was found that the difference in frequency of use by hour and week differs significantly between weekend and weekday."
   ]
  }
 ],
 "metadata": {
  "kernelspec": {
   "display_name": "Python 3",
   "language": "python",
   "name": "python3"
  },
  "language_info": {
   "codemirror_mode": {
    "name": "ipython",
    "version": 3
   },
   "file_extension": ".py",
   "mimetype": "text/x-python",
   "name": "python",
   "nbconvert_exporter": "python",
   "pygments_lexer": "ipython3",
   "version": "3.6.8"
  }
 },
 "nbformat": 4,
 "nbformat_minor": 2
}
